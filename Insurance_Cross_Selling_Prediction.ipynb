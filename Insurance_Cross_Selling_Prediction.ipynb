{
  "cells": [
    {
      "cell_type": "markdown",
      "source": [
        "# Loading Important Libraries"
      ],
      "metadata": {
        "id": "GEu8bYMS88rm"
      }
    },
    {
      "cell_type": "code",
      "execution_count": null,
      "metadata": {
        "id": "Mysxurv4Aihb"
      },
      "outputs": [],
      "source": [
        "import pandas as pd\n",
        "import numpy as np\n",
        "import plotly.express as px\n",
        "import seaborn as sns\n",
        "import matplotlib.pyplot as plt"
      ]
    },
    {
      "cell_type": "markdown",
      "source": [
        "# Loading Dataset"
      ],
      "metadata": {
        "id": "FJ4F2m9n9GLd"
      }
    },
    {
      "cell_type": "code",
      "execution_count": null,
      "metadata": {
        "id": "ZCiLvGk1rj5o"
      },
      "outputs": [],
      "source": [
        "df = pd.read_csv(\"/content/CW1_data_202223.csv\")"
      ]
    },
    {
      "cell_type": "markdown",
      "source": [
        "# Simple Data Inspection"
      ],
      "metadata": {
        "id": "Tka6Psxg9TIx"
      }
    },
    {
      "cell_type": "code",
      "execution_count": null,
      "metadata": {
        "colab": {
          "base_uri": "https://localhost:8080/",
          "height": 206
        },
        "id": "o4h4PByDrqdw",
        "outputId": "713b15be-eff7-462e-9ca6-bd7e7e54297c"
      },
      "outputs": [
        {
          "output_type": "execute_result",
          "data": {
            "text/plain": [
              "       id  Gender   Age  HasDrivingLicense  RegionID  Switch VehicleAge  \\\n",
              "0  332804  Female  39.0                1.0      15.0     0.0   1-2 Year   \n",
              "1  116249    Male  38.0                1.0      11.0     NaN   1-2 Year   \n",
              "2  255006    Male  22.0                1.0      30.0     NaN   < 1 Year   \n",
              "3  317475  Female  23.0                1.0       NaN     NaN   < 1 Year   \n",
              "4  344213    Male  56.0                1.0      48.0     0.0  > 2 Years   \n",
              "\n",
              "  PastAccident AnnualPremium  SalesChannelID  DaysSinceCreated  Result  \n",
              "0          NaN    £2,645.30               55               227       1  \n",
              "1          NaN    £1,151.90               26                29       0  \n",
              "2          NaN    £2,265.90              152               166       0  \n",
              "3          NaN    £1,456.60              151               277       0  \n",
              "4          NaN      £131.50              154               155       0  "
            ],
            "text/html": [
              "\n",
              "  <div id=\"df-524a60ab-54fc-4d65-aa3d-b3ca02a8db0d\" class=\"colab-df-container\">\n",
              "    <div>\n",
              "<style scoped>\n",
              "    .dataframe tbody tr th:only-of-type {\n",
              "        vertical-align: middle;\n",
              "    }\n",
              "\n",
              "    .dataframe tbody tr th {\n",
              "        vertical-align: top;\n",
              "    }\n",
              "\n",
              "    .dataframe thead th {\n",
              "        text-align: right;\n",
              "    }\n",
              "</style>\n",
              "<table border=\"1\" class=\"dataframe\">\n",
              "  <thead>\n",
              "    <tr style=\"text-align: right;\">\n",
              "      <th></th>\n",
              "      <th>id</th>\n",
              "      <th>Gender</th>\n",
              "      <th>Age</th>\n",
              "      <th>HasDrivingLicense</th>\n",
              "      <th>RegionID</th>\n",
              "      <th>Switch</th>\n",
              "      <th>VehicleAge</th>\n",
              "      <th>PastAccident</th>\n",
              "      <th>AnnualPremium</th>\n",
              "      <th>SalesChannelID</th>\n",
              "      <th>DaysSinceCreated</th>\n",
              "      <th>Result</th>\n",
              "    </tr>\n",
              "  </thead>\n",
              "  <tbody>\n",
              "    <tr>\n",
              "      <th>0</th>\n",
              "      <td>332804</td>\n",
              "      <td>Female</td>\n",
              "      <td>39.0</td>\n",
              "      <td>1.0</td>\n",
              "      <td>15.0</td>\n",
              "      <td>0.0</td>\n",
              "      <td>1-2 Year</td>\n",
              "      <td>NaN</td>\n",
              "      <td>£2,645.30</td>\n",
              "      <td>55</td>\n",
              "      <td>227</td>\n",
              "      <td>1</td>\n",
              "    </tr>\n",
              "    <tr>\n",
              "      <th>1</th>\n",
              "      <td>116249</td>\n",
              "      <td>Male</td>\n",
              "      <td>38.0</td>\n",
              "      <td>1.0</td>\n",
              "      <td>11.0</td>\n",
              "      <td>NaN</td>\n",
              "      <td>1-2 Year</td>\n",
              "      <td>NaN</td>\n",
              "      <td>£1,151.90</td>\n",
              "      <td>26</td>\n",
              "      <td>29</td>\n",
              "      <td>0</td>\n",
              "    </tr>\n",
              "    <tr>\n",
              "      <th>2</th>\n",
              "      <td>255006</td>\n",
              "      <td>Male</td>\n",
              "      <td>22.0</td>\n",
              "      <td>1.0</td>\n",
              "      <td>30.0</td>\n",
              "      <td>NaN</td>\n",
              "      <td>&lt; 1 Year</td>\n",
              "      <td>NaN</td>\n",
              "      <td>£2,265.90</td>\n",
              "      <td>152</td>\n",
              "      <td>166</td>\n",
              "      <td>0</td>\n",
              "    </tr>\n",
              "    <tr>\n",
              "      <th>3</th>\n",
              "      <td>317475</td>\n",
              "      <td>Female</td>\n",
              "      <td>23.0</td>\n",
              "      <td>1.0</td>\n",
              "      <td>NaN</td>\n",
              "      <td>NaN</td>\n",
              "      <td>&lt; 1 Year</td>\n",
              "      <td>NaN</td>\n",
              "      <td>£1,456.60</td>\n",
              "      <td>151</td>\n",
              "      <td>277</td>\n",
              "      <td>0</td>\n",
              "    </tr>\n",
              "    <tr>\n",
              "      <th>4</th>\n",
              "      <td>344213</td>\n",
              "      <td>Male</td>\n",
              "      <td>56.0</td>\n",
              "      <td>1.0</td>\n",
              "      <td>48.0</td>\n",
              "      <td>0.0</td>\n",
              "      <td>&gt; 2 Years</td>\n",
              "      <td>NaN</td>\n",
              "      <td>£131.50</td>\n",
              "      <td>154</td>\n",
              "      <td>155</td>\n",
              "      <td>0</td>\n",
              "    </tr>\n",
              "  </tbody>\n",
              "</table>\n",
              "</div>\n",
              "    <div class=\"colab-df-buttons\">\n",
              "\n",
              "  <div class=\"colab-df-container\">\n",
              "    <button class=\"colab-df-convert\" onclick=\"convertToInteractive('df-524a60ab-54fc-4d65-aa3d-b3ca02a8db0d')\"\n",
              "            title=\"Convert this dataframe to an interactive table.\"\n",
              "            style=\"display:none;\">\n",
              "\n",
              "  <svg xmlns=\"http://www.w3.org/2000/svg\" height=\"24px\" viewBox=\"0 -960 960 960\">\n",
              "    <path d=\"M120-120v-720h720v720H120Zm60-500h600v-160H180v160Zm220 220h160v-160H400v160Zm0 220h160v-160H400v160ZM180-400h160v-160H180v160Zm440 0h160v-160H620v160ZM180-180h160v-160H180v160Zm440 0h160v-160H620v160Z\"/>\n",
              "  </svg>\n",
              "    </button>\n",
              "\n",
              "  <style>\n",
              "    .colab-df-container {\n",
              "      display:flex;\n",
              "      gap: 12px;\n",
              "    }\n",
              "\n",
              "    .colab-df-convert {\n",
              "      background-color: #E8F0FE;\n",
              "      border: none;\n",
              "      border-radius: 50%;\n",
              "      cursor: pointer;\n",
              "      display: none;\n",
              "      fill: #1967D2;\n",
              "      height: 32px;\n",
              "      padding: 0 0 0 0;\n",
              "      width: 32px;\n",
              "    }\n",
              "\n",
              "    .colab-df-convert:hover {\n",
              "      background-color: #E2EBFA;\n",
              "      box-shadow: 0px 1px 2px rgba(60, 64, 67, 0.3), 0px 1px 3px 1px rgba(60, 64, 67, 0.15);\n",
              "      fill: #174EA6;\n",
              "    }\n",
              "\n",
              "    .colab-df-buttons div {\n",
              "      margin-bottom: 4px;\n",
              "    }\n",
              "\n",
              "    [theme=dark] .colab-df-convert {\n",
              "      background-color: #3B4455;\n",
              "      fill: #D2E3FC;\n",
              "    }\n",
              "\n",
              "    [theme=dark] .colab-df-convert:hover {\n",
              "      background-color: #434B5C;\n",
              "      box-shadow: 0px 1px 3px 1px rgba(0, 0, 0, 0.15);\n",
              "      filter: drop-shadow(0px 1px 2px rgba(0, 0, 0, 0.3));\n",
              "      fill: #FFFFFF;\n",
              "    }\n",
              "  </style>\n",
              "\n",
              "    <script>\n",
              "      const buttonEl =\n",
              "        document.querySelector('#df-524a60ab-54fc-4d65-aa3d-b3ca02a8db0d button.colab-df-convert');\n",
              "      buttonEl.style.display =\n",
              "        google.colab.kernel.accessAllowed ? 'block' : 'none';\n",
              "\n",
              "      async function convertToInteractive(key) {\n",
              "        const element = document.querySelector('#df-524a60ab-54fc-4d65-aa3d-b3ca02a8db0d');\n",
              "        const dataTable =\n",
              "          await google.colab.kernel.invokeFunction('convertToInteractive',\n",
              "                                                    [key], {});\n",
              "        if (!dataTable) return;\n",
              "\n",
              "        const docLinkHtml = 'Like what you see? Visit the ' +\n",
              "          '<a target=\"_blank\" href=https://colab.research.google.com/notebooks/data_table.ipynb>data table notebook</a>'\n",
              "          + ' to learn more about interactive tables.';\n",
              "        element.innerHTML = '';\n",
              "        dataTable['output_type'] = 'display_data';\n",
              "        await google.colab.output.renderOutput(dataTable, element);\n",
              "        const docLink = document.createElement('div');\n",
              "        docLink.innerHTML = docLinkHtml;\n",
              "        element.appendChild(docLink);\n",
              "      }\n",
              "    </script>\n",
              "  </div>\n",
              "\n",
              "\n",
              "<div id=\"df-a5d9979e-a642-413b-8878-60f10b15674b\">\n",
              "  <button class=\"colab-df-quickchart\" onclick=\"quickchart('df-a5d9979e-a642-413b-8878-60f10b15674b')\"\n",
              "            title=\"Suggest charts.\"\n",
              "            style=\"display:none;\">\n",
              "\n",
              "<svg xmlns=\"http://www.w3.org/2000/svg\" height=\"24px\"viewBox=\"0 0 24 24\"\n",
              "     width=\"24px\">\n",
              "    <g>\n",
              "        <path d=\"M19 3H5c-1.1 0-2 .9-2 2v14c0 1.1.9 2 2 2h14c1.1 0 2-.9 2-2V5c0-1.1-.9-2-2-2zM9 17H7v-7h2v7zm4 0h-2V7h2v10zm4 0h-2v-4h2v4z\"/>\n",
              "    </g>\n",
              "</svg>\n",
              "  </button>\n",
              "\n",
              "<style>\n",
              "  .colab-df-quickchart {\n",
              "      --bg-color: #E8F0FE;\n",
              "      --fill-color: #1967D2;\n",
              "      --hover-bg-color: #E2EBFA;\n",
              "      --hover-fill-color: #174EA6;\n",
              "      --disabled-fill-color: #AAA;\n",
              "      --disabled-bg-color: #DDD;\n",
              "  }\n",
              "\n",
              "  [theme=dark] .colab-df-quickchart {\n",
              "      --bg-color: #3B4455;\n",
              "      --fill-color: #D2E3FC;\n",
              "      --hover-bg-color: #434B5C;\n",
              "      --hover-fill-color: #FFFFFF;\n",
              "      --disabled-bg-color: #3B4455;\n",
              "      --disabled-fill-color: #666;\n",
              "  }\n",
              "\n",
              "  .colab-df-quickchart {\n",
              "    background-color: var(--bg-color);\n",
              "    border: none;\n",
              "    border-radius: 50%;\n",
              "    cursor: pointer;\n",
              "    display: none;\n",
              "    fill: var(--fill-color);\n",
              "    height: 32px;\n",
              "    padding: 0;\n",
              "    width: 32px;\n",
              "  }\n",
              "\n",
              "  .colab-df-quickchart:hover {\n",
              "    background-color: var(--hover-bg-color);\n",
              "    box-shadow: 0 1px 2px rgba(60, 64, 67, 0.3), 0 1px 3px 1px rgba(60, 64, 67, 0.15);\n",
              "    fill: var(--button-hover-fill-color);\n",
              "  }\n",
              "\n",
              "  .colab-df-quickchart-complete:disabled,\n",
              "  .colab-df-quickchart-complete:disabled:hover {\n",
              "    background-color: var(--disabled-bg-color);\n",
              "    fill: var(--disabled-fill-color);\n",
              "    box-shadow: none;\n",
              "  }\n",
              "\n",
              "  .colab-df-spinner {\n",
              "    border: 2px solid var(--fill-color);\n",
              "    border-color: transparent;\n",
              "    border-bottom-color: var(--fill-color);\n",
              "    animation:\n",
              "      spin 1s steps(1) infinite;\n",
              "  }\n",
              "\n",
              "  @keyframes spin {\n",
              "    0% {\n",
              "      border-color: transparent;\n",
              "      border-bottom-color: var(--fill-color);\n",
              "      border-left-color: var(--fill-color);\n",
              "    }\n",
              "    20% {\n",
              "      border-color: transparent;\n",
              "      border-left-color: var(--fill-color);\n",
              "      border-top-color: var(--fill-color);\n",
              "    }\n",
              "    30% {\n",
              "      border-color: transparent;\n",
              "      border-left-color: var(--fill-color);\n",
              "      border-top-color: var(--fill-color);\n",
              "      border-right-color: var(--fill-color);\n",
              "    }\n",
              "    40% {\n",
              "      border-color: transparent;\n",
              "      border-right-color: var(--fill-color);\n",
              "      border-top-color: var(--fill-color);\n",
              "    }\n",
              "    60% {\n",
              "      border-color: transparent;\n",
              "      border-right-color: var(--fill-color);\n",
              "    }\n",
              "    80% {\n",
              "      border-color: transparent;\n",
              "      border-right-color: var(--fill-color);\n",
              "      border-bottom-color: var(--fill-color);\n",
              "    }\n",
              "    90% {\n",
              "      border-color: transparent;\n",
              "      border-bottom-color: var(--fill-color);\n",
              "    }\n",
              "  }\n",
              "</style>\n",
              "\n",
              "  <script>\n",
              "    async function quickchart(key) {\n",
              "      const quickchartButtonEl =\n",
              "        document.querySelector('#' + key + ' button');\n",
              "      quickchartButtonEl.disabled = true;  // To prevent multiple clicks.\n",
              "      quickchartButtonEl.classList.add('colab-df-spinner');\n",
              "      try {\n",
              "        const charts = await google.colab.kernel.invokeFunction(\n",
              "            'suggestCharts', [key], {});\n",
              "      } catch (error) {\n",
              "        console.error('Error during call to suggestCharts:', error);\n",
              "      }\n",
              "      quickchartButtonEl.classList.remove('colab-df-spinner');\n",
              "      quickchartButtonEl.classList.add('colab-df-quickchart-complete');\n",
              "    }\n",
              "    (() => {\n",
              "      let quickchartButtonEl =\n",
              "        document.querySelector('#df-a5d9979e-a642-413b-8878-60f10b15674b button');\n",
              "      quickchartButtonEl.style.display =\n",
              "        google.colab.kernel.accessAllowed ? 'block' : 'none';\n",
              "    })();\n",
              "  </script>\n",
              "</div>\n",
              "    </div>\n",
              "  </div>\n"
            ]
          },
          "metadata": {},
          "execution_count": 3
        }
      ],
      "source": [
        "# checking the data\n",
        "df.head()"
      ]
    },
    {
      "cell_type": "code",
      "execution_count": null,
      "metadata": {
        "colab": {
          "base_uri": "https://localhost:8080/"
        },
        "id": "jXhYzYyLrtZI",
        "outputId": "05afcb19-7c4e-4e38-e33b-f384d7c16d36"
      },
      "outputs": [
        {
          "output_type": "execute_result",
          "data": {
            "text/plain": [
              "(304887, 12)"
            ]
          },
          "metadata": {},
          "execution_count": 4
        }
      ],
      "source": [
        "# checking shape of data\n",
        "df.shape"
      ]
    },
    {
      "cell_type": "code",
      "execution_count": null,
      "metadata": {
        "colab": {
          "base_uri": "https://localhost:8080/"
        },
        "id": "wSj1qrdPrva2",
        "outputId": "7851c1ab-54a5-46ff-b4a7-78aa3dd3e902"
      },
      "outputs": [
        {
          "output_type": "stream",
          "name": "stdout",
          "text": [
            "<class 'pandas.core.frame.DataFrame'>\n",
            "RangeIndex: 304887 entries, 0 to 304886\n",
            "Data columns (total 12 columns):\n",
            " #   Column             Non-Null Count   Dtype  \n",
            "---  ------             --------------   -----  \n",
            " 0   id                 304887 non-null  int64  \n",
            " 1   Gender             274460 non-null  object \n",
            " 2   Age                274339 non-null  float64\n",
            " 3   HasDrivingLicense  274399 non-null  float64\n",
            " 4   RegionID           274334 non-null  float64\n",
            " 5   Switch             152557 non-null  float64\n",
            " 6   VehicleAge         274446 non-null  object \n",
            " 7   PastAccident       152422 non-null  object \n",
            " 8   AnnualPremium      304887 non-null  object \n",
            " 9   SalesChannelID     304887 non-null  int64  \n",
            " 10  DaysSinceCreated   304887 non-null  int64  \n",
            " 11  Result             304887 non-null  int64  \n",
            "dtypes: float64(4), int64(4), object(4)\n",
            "memory usage: 27.9+ MB\n"
          ]
        }
      ],
      "source": [
        "#checking all datatypes\n",
        "df.info ()"
      ]
    },
    {
      "cell_type": "code",
      "source": [
        "# creating list of numerical and catogrical data for better understanding\n",
        "numeric_dtype = ['int16', 'int32', 'int64', 'float16', 'float32', 'float64']\n",
        "numeric = []\n",
        "for i in df.columns:\n",
        "    if df[i].dtype in numeric_dtype:\n",
        "        if i in ['Unnamed: 0', 'id']:\n",
        "            pass\n",
        "        else:\n",
        "            numeric.append(i)\n",
        "C = (df.dtypes == 'object')\n",
        "category = list(C[C].index)\n",
        "\n",
        "print(\"Numerical Data:\",numeric)\n",
        "print(\"Categorical Data:\",category)"
      ],
      "metadata": {
        "colab": {
          "base_uri": "https://localhost:8080/"
        },
        "id": "S0AeM4Ibfp3S",
        "outputId": "25f55dd3-d60a-4dde-b422-d37332391fb8"
      },
      "execution_count": null,
      "outputs": [
        {
          "output_type": "stream",
          "name": "stdout",
          "text": [
            "Numerical Data: ['Age', 'HasDrivingLicense', 'RegionID', 'Switch', 'SalesChannelID', 'DaysSinceCreated', 'Result']\n",
            "Categorical Data: ['Gender', 'VehicleAge', 'PastAccident', 'AnnualPremium']\n"
          ]
        }
      ]
    },
    {
      "cell_type": "code",
      "source": [
        "# 'AnnualPremium' has to be transformed to numeric structure.\n",
        "df['AnnualPremium'] = df['AnnualPremium'].str.replace('£', '').str.replace(',', '').astype(float)"
      ],
      "metadata": {
        "id": "m3uUkCY0hLZC"
      },
      "execution_count": null,
      "outputs": []
    },
    {
      "cell_type": "code",
      "source": [
        "# checking statistics of the dataset\n",
        "df.describe()"
      ],
      "metadata": {
        "colab": {
          "base_uri": "https://localhost:8080/",
          "height": 300
        },
        "id": "3Hnqe5ULk10V",
        "outputId": "fb3f7d1e-2dcd-485d-95b8-ff0acd9d8bf3"
      },
      "execution_count": null,
      "outputs": [
        {
          "output_type": "execute_result",
          "data": {
            "text/plain": [
              "                  id            Age  HasDrivingLicense       RegionID  \\\n",
              "count  304887.000000  274339.000000      274399.000000  274334.000000   \n",
              "mean   190594.098072      38.832561           0.997853      26.408892   \n",
              "std    110022.144283      15.504062           0.046281      13.213345   \n",
              "min         1.000000      20.000000           0.000000       0.000000   \n",
              "25%     95342.500000      25.000000           1.000000      15.000000   \n",
              "50%    190639.000000      36.000000           1.000000      28.000000   \n",
              "75%    285785.500000      49.000000           1.000000      35.000000   \n",
              "max    381109.000000      85.000000           1.000000      52.000000   \n",
              "\n",
              "              Switch  AnnualPremium  SalesChannelID  DaysSinceCreated  \\\n",
              "count  152557.000000  304887.000000   304887.000000     304887.000000   \n",
              "mean        0.458281    1528.592566      111.966591        154.272609   \n",
              "std         0.498258     862.712194       54.230069         83.642389   \n",
              "min         0.000000     131.500000        1.000000         10.000000   \n",
              "25%         0.000000    1220.325000       26.000000         82.000000   \n",
              "50%         0.000000    1583.750000      131.000000        154.000000   \n",
              "75%         1.000000    1970.700000      152.000000        227.000000   \n",
              "max         1.000000   27008.250000      163.000000        299.000000   \n",
              "\n",
              "              Result  \n",
              "count  304887.000000  \n",
              "mean        0.121970  \n",
              "std         0.327251  \n",
              "min         0.000000  \n",
              "25%         0.000000  \n",
              "50%         0.000000  \n",
              "75%         0.000000  \n",
              "max         1.000000  "
            ],
            "text/html": [
              "\n",
              "  <div id=\"df-a6a7c975-05fe-45af-8b82-ac8acb2ae97d\" class=\"colab-df-container\">\n",
              "    <div>\n",
              "<style scoped>\n",
              "    .dataframe tbody tr th:only-of-type {\n",
              "        vertical-align: middle;\n",
              "    }\n",
              "\n",
              "    .dataframe tbody tr th {\n",
              "        vertical-align: top;\n",
              "    }\n",
              "\n",
              "    .dataframe thead th {\n",
              "        text-align: right;\n",
              "    }\n",
              "</style>\n",
              "<table border=\"1\" class=\"dataframe\">\n",
              "  <thead>\n",
              "    <tr style=\"text-align: right;\">\n",
              "      <th></th>\n",
              "      <th>id</th>\n",
              "      <th>Age</th>\n",
              "      <th>HasDrivingLicense</th>\n",
              "      <th>RegionID</th>\n",
              "      <th>Switch</th>\n",
              "      <th>AnnualPremium</th>\n",
              "      <th>SalesChannelID</th>\n",
              "      <th>DaysSinceCreated</th>\n",
              "      <th>Result</th>\n",
              "    </tr>\n",
              "  </thead>\n",
              "  <tbody>\n",
              "    <tr>\n",
              "      <th>count</th>\n",
              "      <td>304887.000000</td>\n",
              "      <td>274339.000000</td>\n",
              "      <td>274399.000000</td>\n",
              "      <td>274334.000000</td>\n",
              "      <td>152557.000000</td>\n",
              "      <td>304887.000000</td>\n",
              "      <td>304887.000000</td>\n",
              "      <td>304887.000000</td>\n",
              "      <td>304887.000000</td>\n",
              "    </tr>\n",
              "    <tr>\n",
              "      <th>mean</th>\n",
              "      <td>190594.098072</td>\n",
              "      <td>38.832561</td>\n",
              "      <td>0.997853</td>\n",
              "      <td>26.408892</td>\n",
              "      <td>0.458281</td>\n",
              "      <td>1528.592566</td>\n",
              "      <td>111.966591</td>\n",
              "      <td>154.272609</td>\n",
              "      <td>0.121970</td>\n",
              "    </tr>\n",
              "    <tr>\n",
              "      <th>std</th>\n",
              "      <td>110022.144283</td>\n",
              "      <td>15.504062</td>\n",
              "      <td>0.046281</td>\n",
              "      <td>13.213345</td>\n",
              "      <td>0.498258</td>\n",
              "      <td>862.712194</td>\n",
              "      <td>54.230069</td>\n",
              "      <td>83.642389</td>\n",
              "      <td>0.327251</td>\n",
              "    </tr>\n",
              "    <tr>\n",
              "      <th>min</th>\n",
              "      <td>1.000000</td>\n",
              "      <td>20.000000</td>\n",
              "      <td>0.000000</td>\n",
              "      <td>0.000000</td>\n",
              "      <td>0.000000</td>\n",
              "      <td>131.500000</td>\n",
              "      <td>1.000000</td>\n",
              "      <td>10.000000</td>\n",
              "      <td>0.000000</td>\n",
              "    </tr>\n",
              "    <tr>\n",
              "      <th>25%</th>\n",
              "      <td>95342.500000</td>\n",
              "      <td>25.000000</td>\n",
              "      <td>1.000000</td>\n",
              "      <td>15.000000</td>\n",
              "      <td>0.000000</td>\n",
              "      <td>1220.325000</td>\n",
              "      <td>26.000000</td>\n",
              "      <td>82.000000</td>\n",
              "      <td>0.000000</td>\n",
              "    </tr>\n",
              "    <tr>\n",
              "      <th>50%</th>\n",
              "      <td>190639.000000</td>\n",
              "      <td>36.000000</td>\n",
              "      <td>1.000000</td>\n",
              "      <td>28.000000</td>\n",
              "      <td>0.000000</td>\n",
              "      <td>1583.750000</td>\n",
              "      <td>131.000000</td>\n",
              "      <td>154.000000</td>\n",
              "      <td>0.000000</td>\n",
              "    </tr>\n",
              "    <tr>\n",
              "      <th>75%</th>\n",
              "      <td>285785.500000</td>\n",
              "      <td>49.000000</td>\n",
              "      <td>1.000000</td>\n",
              "      <td>35.000000</td>\n",
              "      <td>1.000000</td>\n",
              "      <td>1970.700000</td>\n",
              "      <td>152.000000</td>\n",
              "      <td>227.000000</td>\n",
              "      <td>0.000000</td>\n",
              "    </tr>\n",
              "    <tr>\n",
              "      <th>max</th>\n",
              "      <td>381109.000000</td>\n",
              "      <td>85.000000</td>\n",
              "      <td>1.000000</td>\n",
              "      <td>52.000000</td>\n",
              "      <td>1.000000</td>\n",
              "      <td>27008.250000</td>\n",
              "      <td>163.000000</td>\n",
              "      <td>299.000000</td>\n",
              "      <td>1.000000</td>\n",
              "    </tr>\n",
              "  </tbody>\n",
              "</table>\n",
              "</div>\n",
              "    <div class=\"colab-df-buttons\">\n",
              "\n",
              "  <div class=\"colab-df-container\">\n",
              "    <button class=\"colab-df-convert\" onclick=\"convertToInteractive('df-a6a7c975-05fe-45af-8b82-ac8acb2ae97d')\"\n",
              "            title=\"Convert this dataframe to an interactive table.\"\n",
              "            style=\"display:none;\">\n",
              "\n",
              "  <svg xmlns=\"http://www.w3.org/2000/svg\" height=\"24px\" viewBox=\"0 -960 960 960\">\n",
              "    <path d=\"M120-120v-720h720v720H120Zm60-500h600v-160H180v160Zm220 220h160v-160H400v160Zm0 220h160v-160H400v160ZM180-400h160v-160H180v160Zm440 0h160v-160H620v160ZM180-180h160v-160H180v160Zm440 0h160v-160H620v160Z\"/>\n",
              "  </svg>\n",
              "    </button>\n",
              "\n",
              "  <style>\n",
              "    .colab-df-container {\n",
              "      display:flex;\n",
              "      gap: 12px;\n",
              "    }\n",
              "\n",
              "    .colab-df-convert {\n",
              "      background-color: #E8F0FE;\n",
              "      border: none;\n",
              "      border-radius: 50%;\n",
              "      cursor: pointer;\n",
              "      display: none;\n",
              "      fill: #1967D2;\n",
              "      height: 32px;\n",
              "      padding: 0 0 0 0;\n",
              "      width: 32px;\n",
              "    }\n",
              "\n",
              "    .colab-df-convert:hover {\n",
              "      background-color: #E2EBFA;\n",
              "      box-shadow: 0px 1px 2px rgba(60, 64, 67, 0.3), 0px 1px 3px 1px rgba(60, 64, 67, 0.15);\n",
              "      fill: #174EA6;\n",
              "    }\n",
              "\n",
              "    .colab-df-buttons div {\n",
              "      margin-bottom: 4px;\n",
              "    }\n",
              "\n",
              "    [theme=dark] .colab-df-convert {\n",
              "      background-color: #3B4455;\n",
              "      fill: #D2E3FC;\n",
              "    }\n",
              "\n",
              "    [theme=dark] .colab-df-convert:hover {\n",
              "      background-color: #434B5C;\n",
              "      box-shadow: 0px 1px 3px 1px rgba(0, 0, 0, 0.15);\n",
              "      filter: drop-shadow(0px 1px 2px rgba(0, 0, 0, 0.3));\n",
              "      fill: #FFFFFF;\n",
              "    }\n",
              "  </style>\n",
              "\n",
              "    <script>\n",
              "      const buttonEl =\n",
              "        document.querySelector('#df-a6a7c975-05fe-45af-8b82-ac8acb2ae97d button.colab-df-convert');\n",
              "      buttonEl.style.display =\n",
              "        google.colab.kernel.accessAllowed ? 'block' : 'none';\n",
              "\n",
              "      async function convertToInteractive(key) {\n",
              "        const element = document.querySelector('#df-a6a7c975-05fe-45af-8b82-ac8acb2ae97d');\n",
              "        const dataTable =\n",
              "          await google.colab.kernel.invokeFunction('convertToInteractive',\n",
              "                                                    [key], {});\n",
              "        if (!dataTable) return;\n",
              "\n",
              "        const docLinkHtml = 'Like what you see? Visit the ' +\n",
              "          '<a target=\"_blank\" href=https://colab.research.google.com/notebooks/data_table.ipynb>data table notebook</a>'\n",
              "          + ' to learn more about interactive tables.';\n",
              "        element.innerHTML = '';\n",
              "        dataTable['output_type'] = 'display_data';\n",
              "        await google.colab.output.renderOutput(dataTable, element);\n",
              "        const docLink = document.createElement('div');\n",
              "        docLink.innerHTML = docLinkHtml;\n",
              "        element.appendChild(docLink);\n",
              "      }\n",
              "    </script>\n",
              "  </div>\n",
              "\n",
              "\n",
              "<div id=\"df-61ce512f-523a-4ae6-93ba-d850817e4df7\">\n",
              "  <button class=\"colab-df-quickchart\" onclick=\"quickchart('df-61ce512f-523a-4ae6-93ba-d850817e4df7')\"\n",
              "            title=\"Suggest charts.\"\n",
              "            style=\"display:none;\">\n",
              "\n",
              "<svg xmlns=\"http://www.w3.org/2000/svg\" height=\"24px\"viewBox=\"0 0 24 24\"\n",
              "     width=\"24px\">\n",
              "    <g>\n",
              "        <path d=\"M19 3H5c-1.1 0-2 .9-2 2v14c0 1.1.9 2 2 2h14c1.1 0 2-.9 2-2V5c0-1.1-.9-2-2-2zM9 17H7v-7h2v7zm4 0h-2V7h2v10zm4 0h-2v-4h2v4z\"/>\n",
              "    </g>\n",
              "</svg>\n",
              "  </button>\n",
              "\n",
              "<style>\n",
              "  .colab-df-quickchart {\n",
              "      --bg-color: #E8F0FE;\n",
              "      --fill-color: #1967D2;\n",
              "      --hover-bg-color: #E2EBFA;\n",
              "      --hover-fill-color: #174EA6;\n",
              "      --disabled-fill-color: #AAA;\n",
              "      --disabled-bg-color: #DDD;\n",
              "  }\n",
              "\n",
              "  [theme=dark] .colab-df-quickchart {\n",
              "      --bg-color: #3B4455;\n",
              "      --fill-color: #D2E3FC;\n",
              "      --hover-bg-color: #434B5C;\n",
              "      --hover-fill-color: #FFFFFF;\n",
              "      --disabled-bg-color: #3B4455;\n",
              "      --disabled-fill-color: #666;\n",
              "  }\n",
              "\n",
              "  .colab-df-quickchart {\n",
              "    background-color: var(--bg-color);\n",
              "    border: none;\n",
              "    border-radius: 50%;\n",
              "    cursor: pointer;\n",
              "    display: none;\n",
              "    fill: var(--fill-color);\n",
              "    height: 32px;\n",
              "    padding: 0;\n",
              "    width: 32px;\n",
              "  }\n",
              "\n",
              "  .colab-df-quickchart:hover {\n",
              "    background-color: var(--hover-bg-color);\n",
              "    box-shadow: 0 1px 2px rgba(60, 64, 67, 0.3), 0 1px 3px 1px rgba(60, 64, 67, 0.15);\n",
              "    fill: var(--button-hover-fill-color);\n",
              "  }\n",
              "\n",
              "  .colab-df-quickchart-complete:disabled,\n",
              "  .colab-df-quickchart-complete:disabled:hover {\n",
              "    background-color: var(--disabled-bg-color);\n",
              "    fill: var(--disabled-fill-color);\n",
              "    box-shadow: none;\n",
              "  }\n",
              "\n",
              "  .colab-df-spinner {\n",
              "    border: 2px solid var(--fill-color);\n",
              "    border-color: transparent;\n",
              "    border-bottom-color: var(--fill-color);\n",
              "    animation:\n",
              "      spin 1s steps(1) infinite;\n",
              "  }\n",
              "\n",
              "  @keyframes spin {\n",
              "    0% {\n",
              "      border-color: transparent;\n",
              "      border-bottom-color: var(--fill-color);\n",
              "      border-left-color: var(--fill-color);\n",
              "    }\n",
              "    20% {\n",
              "      border-color: transparent;\n",
              "      border-left-color: var(--fill-color);\n",
              "      border-top-color: var(--fill-color);\n",
              "    }\n",
              "    30% {\n",
              "      border-color: transparent;\n",
              "      border-left-color: var(--fill-color);\n",
              "      border-top-color: var(--fill-color);\n",
              "      border-right-color: var(--fill-color);\n",
              "    }\n",
              "    40% {\n",
              "      border-color: transparent;\n",
              "      border-right-color: var(--fill-color);\n",
              "      border-top-color: var(--fill-color);\n",
              "    }\n",
              "    60% {\n",
              "      border-color: transparent;\n",
              "      border-right-color: var(--fill-color);\n",
              "    }\n",
              "    80% {\n",
              "      border-color: transparent;\n",
              "      border-right-color: var(--fill-color);\n",
              "      border-bottom-color: var(--fill-color);\n",
              "    }\n",
              "    90% {\n",
              "      border-color: transparent;\n",
              "      border-bottom-color: var(--fill-color);\n",
              "    }\n",
              "  }\n",
              "</style>\n",
              "\n",
              "  <script>\n",
              "    async function quickchart(key) {\n",
              "      const quickchartButtonEl =\n",
              "        document.querySelector('#' + key + ' button');\n",
              "      quickchartButtonEl.disabled = true;  // To prevent multiple clicks.\n",
              "      quickchartButtonEl.classList.add('colab-df-spinner');\n",
              "      try {\n",
              "        const charts = await google.colab.kernel.invokeFunction(\n",
              "            'suggestCharts', [key], {});\n",
              "      } catch (error) {\n",
              "        console.error('Error during call to suggestCharts:', error);\n",
              "      }\n",
              "      quickchartButtonEl.classList.remove('colab-df-spinner');\n",
              "      quickchartButtonEl.classList.add('colab-df-quickchart-complete');\n",
              "    }\n",
              "    (() => {\n",
              "      let quickchartButtonEl =\n",
              "        document.querySelector('#df-61ce512f-523a-4ae6-93ba-d850817e4df7 button');\n",
              "      quickchartButtonEl.style.display =\n",
              "        google.colab.kernel.accessAllowed ? 'block' : 'none';\n",
              "    })();\n",
              "  </script>\n",
              "</div>\n",
              "    </div>\n",
              "  </div>\n"
            ]
          },
          "metadata": {},
          "execution_count": 8
        }
      ]
    },
    {
      "cell_type": "code",
      "source": [
        "# checking the duplicate values\n",
        "df.duplicated().sum()"
      ],
      "metadata": {
        "colab": {
          "base_uri": "https://localhost:8080/"
        },
        "id": "jbIZvFa6dbwQ",
        "outputId": "082d1795-3953-47c2-e1b8-6fe0f0cfc30b"
      },
      "execution_count": null,
      "outputs": [
        {
          "output_type": "execute_result",
          "data": {
            "text/plain": [
              "0"
            ]
          },
          "metadata": {},
          "execution_count": 9
        }
      ]
    },
    {
      "cell_type": "code",
      "source": [
        "# checking the null values in each column\n",
        "values_missing = df.isnull().sum()\n",
        "percent_missing = df.isnull().sum() * 100 / len(df)\n",
        "missing_value = pd.DataFrame({'column_name': df.columns,'values_missing':values_missing ,'percent_missing': percent_missing})\n",
        "missing_value = missing_value[missing_value['percent_missing'] > 0]\n",
        "a= missing_value.sort_values(by='percent_missing', ascending=False)\n",
        "a"
      ],
      "metadata": {
        "colab": {
          "base_uri": "https://localhost:8080/",
          "height": 269
        },
        "id": "Aw8GD9lucPCy",
        "outputId": "b6b2011a-4f47-42db-8e9a-834dd5d4b833"
      },
      "execution_count": null,
      "outputs": [
        {
          "output_type": "execute_result",
          "data": {
            "text/plain": [
              "                         column_name  values_missing  percent_missing\n",
              "PastAccident            PastAccident          152465        50.007052\n",
              "Switch                        Switch          152330        49.962773\n",
              "RegionID                    RegionID           30553        10.021090\n",
              "Age                              Age           30548        10.019450\n",
              "HasDrivingLicense  HasDrivingLicense           30488         9.999770\n",
              "VehicleAge                VehicleAge           30441         9.984355\n",
              "Gender                        Gender           30427         9.979763"
            ],
            "text/html": [
              "\n",
              "  <div id=\"df-e8d9a465-2daa-4224-a73c-b76215429d60\" class=\"colab-df-container\">\n",
              "    <div>\n",
              "<style scoped>\n",
              "    .dataframe tbody tr th:only-of-type {\n",
              "        vertical-align: middle;\n",
              "    }\n",
              "\n",
              "    .dataframe tbody tr th {\n",
              "        vertical-align: top;\n",
              "    }\n",
              "\n",
              "    .dataframe thead th {\n",
              "        text-align: right;\n",
              "    }\n",
              "</style>\n",
              "<table border=\"1\" class=\"dataframe\">\n",
              "  <thead>\n",
              "    <tr style=\"text-align: right;\">\n",
              "      <th></th>\n",
              "      <th>column_name</th>\n",
              "      <th>values_missing</th>\n",
              "      <th>percent_missing</th>\n",
              "    </tr>\n",
              "  </thead>\n",
              "  <tbody>\n",
              "    <tr>\n",
              "      <th>PastAccident</th>\n",
              "      <td>PastAccident</td>\n",
              "      <td>152465</td>\n",
              "      <td>50.007052</td>\n",
              "    </tr>\n",
              "    <tr>\n",
              "      <th>Switch</th>\n",
              "      <td>Switch</td>\n",
              "      <td>152330</td>\n",
              "      <td>49.962773</td>\n",
              "    </tr>\n",
              "    <tr>\n",
              "      <th>RegionID</th>\n",
              "      <td>RegionID</td>\n",
              "      <td>30553</td>\n",
              "      <td>10.021090</td>\n",
              "    </tr>\n",
              "    <tr>\n",
              "      <th>Age</th>\n",
              "      <td>Age</td>\n",
              "      <td>30548</td>\n",
              "      <td>10.019450</td>\n",
              "    </tr>\n",
              "    <tr>\n",
              "      <th>HasDrivingLicense</th>\n",
              "      <td>HasDrivingLicense</td>\n",
              "      <td>30488</td>\n",
              "      <td>9.999770</td>\n",
              "    </tr>\n",
              "    <tr>\n",
              "      <th>VehicleAge</th>\n",
              "      <td>VehicleAge</td>\n",
              "      <td>30441</td>\n",
              "      <td>9.984355</td>\n",
              "    </tr>\n",
              "    <tr>\n",
              "      <th>Gender</th>\n",
              "      <td>Gender</td>\n",
              "      <td>30427</td>\n",
              "      <td>9.979763</td>\n",
              "    </tr>\n",
              "  </tbody>\n",
              "</table>\n",
              "</div>\n",
              "    <div class=\"colab-df-buttons\">\n",
              "\n",
              "  <div class=\"colab-df-container\">\n",
              "    <button class=\"colab-df-convert\" onclick=\"convertToInteractive('df-e8d9a465-2daa-4224-a73c-b76215429d60')\"\n",
              "            title=\"Convert this dataframe to an interactive table.\"\n",
              "            style=\"display:none;\">\n",
              "\n",
              "  <svg xmlns=\"http://www.w3.org/2000/svg\" height=\"24px\" viewBox=\"0 -960 960 960\">\n",
              "    <path d=\"M120-120v-720h720v720H120Zm60-500h600v-160H180v160Zm220 220h160v-160H400v160Zm0 220h160v-160H400v160ZM180-400h160v-160H180v160Zm440 0h160v-160H620v160ZM180-180h160v-160H180v160Zm440 0h160v-160H620v160Z\"/>\n",
              "  </svg>\n",
              "    </button>\n",
              "\n",
              "  <style>\n",
              "    .colab-df-container {\n",
              "      display:flex;\n",
              "      gap: 12px;\n",
              "    }\n",
              "\n",
              "    .colab-df-convert {\n",
              "      background-color: #E8F0FE;\n",
              "      border: none;\n",
              "      border-radius: 50%;\n",
              "      cursor: pointer;\n",
              "      display: none;\n",
              "      fill: #1967D2;\n",
              "      height: 32px;\n",
              "      padding: 0 0 0 0;\n",
              "      width: 32px;\n",
              "    }\n",
              "\n",
              "    .colab-df-convert:hover {\n",
              "      background-color: #E2EBFA;\n",
              "      box-shadow: 0px 1px 2px rgba(60, 64, 67, 0.3), 0px 1px 3px 1px rgba(60, 64, 67, 0.15);\n",
              "      fill: #174EA6;\n",
              "    }\n",
              "\n",
              "    .colab-df-buttons div {\n",
              "      margin-bottom: 4px;\n",
              "    }\n",
              "\n",
              "    [theme=dark] .colab-df-convert {\n",
              "      background-color: #3B4455;\n",
              "      fill: #D2E3FC;\n",
              "    }\n",
              "\n",
              "    [theme=dark] .colab-df-convert:hover {\n",
              "      background-color: #434B5C;\n",
              "      box-shadow: 0px 1px 3px 1px rgba(0, 0, 0, 0.15);\n",
              "      filter: drop-shadow(0px 1px 2px rgba(0, 0, 0, 0.3));\n",
              "      fill: #FFFFFF;\n",
              "    }\n",
              "  </style>\n",
              "\n",
              "    <script>\n",
              "      const buttonEl =\n",
              "        document.querySelector('#df-e8d9a465-2daa-4224-a73c-b76215429d60 button.colab-df-convert');\n",
              "      buttonEl.style.display =\n",
              "        google.colab.kernel.accessAllowed ? 'block' : 'none';\n",
              "\n",
              "      async function convertToInteractive(key) {\n",
              "        const element = document.querySelector('#df-e8d9a465-2daa-4224-a73c-b76215429d60');\n",
              "        const dataTable =\n",
              "          await google.colab.kernel.invokeFunction('convertToInteractive',\n",
              "                                                    [key], {});\n",
              "        if (!dataTable) return;\n",
              "\n",
              "        const docLinkHtml = 'Like what you see? Visit the ' +\n",
              "          '<a target=\"_blank\" href=https://colab.research.google.com/notebooks/data_table.ipynb>data table notebook</a>'\n",
              "          + ' to learn more about interactive tables.';\n",
              "        element.innerHTML = '';\n",
              "        dataTable['output_type'] = 'display_data';\n",
              "        await google.colab.output.renderOutput(dataTable, element);\n",
              "        const docLink = document.createElement('div');\n",
              "        docLink.innerHTML = docLinkHtml;\n",
              "        element.appendChild(docLink);\n",
              "      }\n",
              "    </script>\n",
              "  </div>\n",
              "\n",
              "\n",
              "<div id=\"df-3fb5fc9c-bddf-42ca-b90c-cb8d595225b7\">\n",
              "  <button class=\"colab-df-quickchart\" onclick=\"quickchart('df-3fb5fc9c-bddf-42ca-b90c-cb8d595225b7')\"\n",
              "            title=\"Suggest charts.\"\n",
              "            style=\"display:none;\">\n",
              "\n",
              "<svg xmlns=\"http://www.w3.org/2000/svg\" height=\"24px\"viewBox=\"0 0 24 24\"\n",
              "     width=\"24px\">\n",
              "    <g>\n",
              "        <path d=\"M19 3H5c-1.1 0-2 .9-2 2v14c0 1.1.9 2 2 2h14c1.1 0 2-.9 2-2V5c0-1.1-.9-2-2-2zM9 17H7v-7h2v7zm4 0h-2V7h2v10zm4 0h-2v-4h2v4z\"/>\n",
              "    </g>\n",
              "</svg>\n",
              "  </button>\n",
              "\n",
              "<style>\n",
              "  .colab-df-quickchart {\n",
              "      --bg-color: #E8F0FE;\n",
              "      --fill-color: #1967D2;\n",
              "      --hover-bg-color: #E2EBFA;\n",
              "      --hover-fill-color: #174EA6;\n",
              "      --disabled-fill-color: #AAA;\n",
              "      --disabled-bg-color: #DDD;\n",
              "  }\n",
              "\n",
              "  [theme=dark] .colab-df-quickchart {\n",
              "      --bg-color: #3B4455;\n",
              "      --fill-color: #D2E3FC;\n",
              "      --hover-bg-color: #434B5C;\n",
              "      --hover-fill-color: #FFFFFF;\n",
              "      --disabled-bg-color: #3B4455;\n",
              "      --disabled-fill-color: #666;\n",
              "  }\n",
              "\n",
              "  .colab-df-quickchart {\n",
              "    background-color: var(--bg-color);\n",
              "    border: none;\n",
              "    border-radius: 50%;\n",
              "    cursor: pointer;\n",
              "    display: none;\n",
              "    fill: var(--fill-color);\n",
              "    height: 32px;\n",
              "    padding: 0;\n",
              "    width: 32px;\n",
              "  }\n",
              "\n",
              "  .colab-df-quickchart:hover {\n",
              "    background-color: var(--hover-bg-color);\n",
              "    box-shadow: 0 1px 2px rgba(60, 64, 67, 0.3), 0 1px 3px 1px rgba(60, 64, 67, 0.15);\n",
              "    fill: var(--button-hover-fill-color);\n",
              "  }\n",
              "\n",
              "  .colab-df-quickchart-complete:disabled,\n",
              "  .colab-df-quickchart-complete:disabled:hover {\n",
              "    background-color: var(--disabled-bg-color);\n",
              "    fill: var(--disabled-fill-color);\n",
              "    box-shadow: none;\n",
              "  }\n",
              "\n",
              "  .colab-df-spinner {\n",
              "    border: 2px solid var(--fill-color);\n",
              "    border-color: transparent;\n",
              "    border-bottom-color: var(--fill-color);\n",
              "    animation:\n",
              "      spin 1s steps(1) infinite;\n",
              "  }\n",
              "\n",
              "  @keyframes spin {\n",
              "    0% {\n",
              "      border-color: transparent;\n",
              "      border-bottom-color: var(--fill-color);\n",
              "      border-left-color: var(--fill-color);\n",
              "    }\n",
              "    20% {\n",
              "      border-color: transparent;\n",
              "      border-left-color: var(--fill-color);\n",
              "      border-top-color: var(--fill-color);\n",
              "    }\n",
              "    30% {\n",
              "      border-color: transparent;\n",
              "      border-left-color: var(--fill-color);\n",
              "      border-top-color: var(--fill-color);\n",
              "      border-right-color: var(--fill-color);\n",
              "    }\n",
              "    40% {\n",
              "      border-color: transparent;\n",
              "      border-right-color: var(--fill-color);\n",
              "      border-top-color: var(--fill-color);\n",
              "    }\n",
              "    60% {\n",
              "      border-color: transparent;\n",
              "      border-right-color: var(--fill-color);\n",
              "    }\n",
              "    80% {\n",
              "      border-color: transparent;\n",
              "      border-right-color: var(--fill-color);\n",
              "      border-bottom-color: var(--fill-color);\n",
              "    }\n",
              "    90% {\n",
              "      border-color: transparent;\n",
              "      border-bottom-color: var(--fill-color);\n",
              "    }\n",
              "  }\n",
              "</style>\n",
              "\n",
              "  <script>\n",
              "    async function quickchart(key) {\n",
              "      const quickchartButtonEl =\n",
              "        document.querySelector('#' + key + ' button');\n",
              "      quickchartButtonEl.disabled = true;  // To prevent multiple clicks.\n",
              "      quickchartButtonEl.classList.add('colab-df-spinner');\n",
              "      try {\n",
              "        const charts = await google.colab.kernel.invokeFunction(\n",
              "            'suggestCharts', [key], {});\n",
              "      } catch (error) {\n",
              "        console.error('Error during call to suggestCharts:', error);\n",
              "      }\n",
              "      quickchartButtonEl.classList.remove('colab-df-spinner');\n",
              "      quickchartButtonEl.classList.add('colab-df-quickchart-complete');\n",
              "    }\n",
              "    (() => {\n",
              "      let quickchartButtonEl =\n",
              "        document.querySelector('#df-3fb5fc9c-bddf-42ca-b90c-cb8d595225b7 button');\n",
              "      quickchartButtonEl.style.display =\n",
              "        google.colab.kernel.accessAllowed ? 'block' : 'none';\n",
              "    })();\n",
              "  </script>\n",
              "</div>\n",
              "    </div>\n",
              "  </div>\n"
            ]
          },
          "metadata": {},
          "execution_count": 10
        }
      ]
    },
    {
      "cell_type": "markdown",
      "source": [
        "# Dropping Unnecessary Columns"
      ],
      "metadata": {
        "id": "OdnnAIEg9nGr"
      }
    },
    {
      "cell_type": "code",
      "execution_count": null,
      "metadata": {
        "id": "dR4SImddpSNL"
      },
      "outputs": [],
      "source": [
        "#df.drop(['id','SalesChannelID','DaysSinceCreated'], axis=1, inplace = True)    # dropping column which is not required\n"
      ]
    },
    {
      "cell_type": "markdown",
      "source": [
        "# Handling Missing Values"
      ],
      "metadata": {
        "id": "AGsOD6uh-d-S"
      }
    },
    {
      "cell_type": "code",
      "source": [
        "df.isnull().sum()"
      ],
      "metadata": {
        "colab": {
          "base_uri": "https://localhost:8080/"
        },
        "id": "iArL08qvBuJH",
        "outputId": "addaf0f0-0bb3-45ff-f68d-31a38a8880f3"
      },
      "execution_count": null,
      "outputs": [
        {
          "output_type": "execute_result",
          "data": {
            "text/plain": [
              "id                       0\n",
              "Gender                   0\n",
              "Age                      0\n",
              "HasDrivingLicense        0\n",
              "RegionID             30553\n",
              "Switch                   0\n",
              "VehicleAge               0\n",
              "PastAccident             0\n",
              "AnnualPremium            0\n",
              "SalesChannelID           0\n",
              "DaysSinceCreated         0\n",
              "Result                   0\n",
              "dtype: int64"
            ]
          },
          "metadata": {},
          "execution_count": 34
        }
      ]
    },
    {
      "cell_type": "markdown",
      "source": [
        "GENDER"
      ],
      "metadata": {
        "id": "Cpxi7t24zgdx"
      }
    },
    {
      "cell_type": "code",
      "source": [
        "#GENDER\n",
        "# counting of each gender\n",
        "counts = df['Gender'].value_counts()\n",
        "counts\n",
        "# bar chart for gender count\n",
        "plt.bar(counts.index, counts.values, color = ['darkblue', 'orange'])\n",
        "plt.show()\n"
      ],
      "metadata": {
        "id": "8vnb3URUnP2x",
        "colab": {
          "base_uri": "https://localhost:8080/",
          "height": 430
        },
        "outputId": "72cb3218-63f1-46e7-e55e-c7b6a09f6d57"
      },
      "execution_count": null,
      "outputs": [
        {
          "output_type": "display_data",
          "data": {
            "text/plain": [
              "<Figure size 640x480 with 1 Axes>"
            ],
            "image/png": "[encoded data removed]"
          },
          "metadata": {}
        }
      ]
    },
    {
      "cell_type": "markdown",
      "source": [
        "from above, we can see the male is more than female. So when we try to fill the missing gender data, we don't want to distort the distribution of the dataset.Hence, I will use a mode gender to fill the missing age data. I am using Sklearn simpleimputer"
      ],
      "metadata": {
        "id": "tGid_2xRzWVv"
      }
    },
    {
      "cell_type": "code",
      "source": [
        "from sklearn.impute import SimpleImputer\n",
        "# Fill missing gender values with the most_frequent\n",
        "imputer = SimpleImputer(strategy='most_frequent', missing_values=np.nan)\n",
        "imputer = imputer.fit(df[['Gender']])\n",
        "df['Gender'] = imputer.transform(df[['Gender']])"
      ],
      "metadata": {
        "id": "dlAvMLlizc3p"
      },
      "execution_count": null,
      "outputs": []
    },
    {
      "cell_type": "markdown",
      "source": [
        "AGE"
      ],
      "metadata": {
        "id": "V8SUcenyzjUg"
      }
    },
    {
      "cell_type": "code",
      "source": [
        "# AGE\n",
        "# ploting age distribution graph\n",
        "sns.distplot(df.loc[(df['Gender']=='Male'), 'Age'], kde_kws={\"color\": \"b\", \"lw\": 1, \"label\": \"Male\"})\n",
        "sns.distplot(df.loc[(df['Gender'] == 'Female'), 'Age'], kde_kws = {\"color\": \"r\", \"lw\": 1, \"label\": \"Female\"})\n",
        "plt.title('Age distribution by Gender', fontsize = 15)\n",
        "plt.show()"
      ],
      "metadata": {
        "id": "EExYxuhYr8Fe"
      },
      "execution_count": null,
      "outputs": []
    },
    {
      "cell_type": "markdown",
      "source": [
        "From above, we can see that the famle younger than 30 is more and the male older than 30 is more. Maybe we can fill the missing age according gender, but it is not a good idea, which may contribute overfitting. Hence, I will use a median age to fill the missing age data."
      ],
      "metadata": {
        "id": "_VvEC901zmuh"
      }
    },
    {
      "cell_type": "code",
      "execution_count": null,
      "metadata": {
        "id": "8ZKvh4_RSrNa"
      },
      "outputs": [],
      "source": [
        "# Fill missing age values with the median value\n",
        "median = df['Age'].median()\n",
        "df['Age'] = df['Age'].fillna(median)"
      ]
    },
    {
      "cell_type": "markdown",
      "source": [
        "HasDrivingLicense"
      ],
      "metadata": {
        "id": "MOsJ9Sexz_Xj"
      }
    },
    {
      "cell_type": "code",
      "source": [
        "#HasDrivingLicense\n",
        "# counting of each gender\n",
        "counts = df['HasDrivingLicense'].value_counts()\n",
        "counts"
      ],
      "metadata": {
        "colab": {
          "base_uri": "https://localhost:8080/"
        },
        "id": "iGGVJnQa0B71",
        "outputId": "a907ab49-9646-4dbe-f058-fb3d2311e5c0"
      },
      "execution_count": null,
      "outputs": [
        {
          "output_type": "execute_result",
          "data": {
            "text/plain": [
              "1.0    273810\n",
              "0.0       589\n",
              "Name: HasDrivingLicense, dtype: int64"
            ]
          },
          "metadata": {},
          "execution_count": 16
        }
      ]
    },
    {
      "cell_type": "markdown",
      "source": [
        "From above, we can see that near 99% customers own a driving license. What's more, it's normal to own a driving license. Hence, I will fill the missing data with 1."
      ],
      "metadata": {
        "id": "Ny_HQkqh2Da4"
      }
    },
    {
      "cell_type": "code",
      "execution_count": null,
      "metadata": {
        "id": "6LqQoicRzUnv"
      },
      "outputs": [],
      "source": [
        "# Fill missing has driving license values with yes means 1\n",
        "df['HasDrivingLicense'] = df['HasDrivingLicense'].fillna(1)"
      ]
    },
    {
      "cell_type": "markdown",
      "source": [
        "RegionID"
      ],
      "metadata": {
        "id": "ybNLZV8-2Juf"
      }
    },
    {
      "cell_type": "code",
      "source": [
        "# ploting RegionID distribution graph\n",
        "sns.histplot(df.RegionID)"
      ],
      "metadata": {
        "colab": {
          "base_uri": "https://localhost:8080/",
          "height": 469
        },
        "id": "W-3PREZV3Joy",
        "outputId": "b46f565d-cd68-407c-8a9f-4493a4943c33"
      },
      "execution_count": null,
      "outputs": [
        {
          "output_type": "execute_result",
          "data": {
            "text/plain": [
              "<Axes: xlabel='RegionID', ylabel='Count'>"
            ]
          },
          "metadata": {},
          "execution_count": 18
        },
        {
          "output_type": "display_data",
          "data": {
            "text/plain": [
              "<Figure size 640x480 with 1 Axes>"
            ],
            "image/png": "[encoded data removed]"
          },
          "metadata": {}
        }
      ]
    },
    {
      "cell_type": "markdown",
      "source": [
        "from above, we can see the region 28 most repeated region.Hence, I will use a mode regionid to fill the missing region data.(using simpleimputer)"
      ],
      "metadata": {
        "id": "9eoUaAN_5Dt6"
      }
    },
    {
      "cell_type": "code",
      "source": [
        "# Fill missing region values with mode\n",
        "imputer = SimpleImputer(strategy='most_frequent', missing_values=np.nan)\n",
        "imputer = imputer.fit(df[['RegionID']])\n",
        "df['RegionID'] = imputer.transform(df[['RegionID']])"
      ],
      "metadata": {
        "id": "GrYu3pbr33ZT"
      },
      "execution_count": null,
      "outputs": []
    },
    {
      "cell_type": "markdown",
      "source": [
        "Switch"
      ],
      "metadata": {
        "id": "QY2c-xTJ5G11"
      }
    },
    {
      "cell_type": "code",
      "source": [
        "# switch distribution\n",
        "df.Switch.value_counts()"
      ],
      "metadata": {
        "colab": {
          "base_uri": "https://localhost:8080/"
        },
        "id": "_GcANRKY5I-G",
        "outputId": "5cd54f46-928e-4df9-9c9e-a8fb216301f5"
      },
      "execution_count": null,
      "outputs": [
        {
          "output_type": "execute_result",
          "data": {
            "text/plain": [
              "-1.0    152330\n",
              " 0.0     82643\n",
              " 1.0     69914\n",
              "Name: Switch, dtype: int64"
            ]
          },
          "metadata": {},
          "execution_count": 22
        }
      ]
    },
    {
      "cell_type": "markdown",
      "source": [
        "Becase of missing data alomst 50%, it is hard to decide how to fill a constant value. Hence, I replace the missing values in a given column with a other contant value which is -1"
      ],
      "metadata": {
        "id": "MP5giJQj6XDQ"
      }
    },
    {
      "cell_type": "code",
      "execution_count": null,
      "metadata": {
        "id": "5SVIsv9KlktI"
      },
      "outputs": [],
      "source": [
        "# Fill missing switch values with new constant\n",
        "df['Switch'] = df['Switch'].fillna(-1)"
      ]
    },
    {
      "cell_type": "markdown",
      "source": [
        "VehicleAge"
      ],
      "metadata": {
        "id": "U487DmqU8BvT"
      }
    },
    {
      "cell_type": "code",
      "source": [
        "# counting vlaues for vehicle age\n",
        "df['VehicleAge'].value_counts()\n",
        "\n",
        "# ploting RegionID distribution graph\n",
        "#sns.histplot(df.VehicleAge)"
      ],
      "metadata": {
        "colab": {
          "base_uri": "https://localhost:8080/"
        },
        "id": "PuLUXwb38BL-",
        "outputId": "3a774f33-8649-4204-f0d2-2dfa89502373"
      },
      "execution_count": null,
      "outputs": [
        {
          "output_type": "execute_result",
          "data": {
            "text/plain": [
              "1-2 Year     144374\n",
              "< 1 Year     118528\n",
              "> 2 Years     11544\n",
              "Name: VehicleAge, dtype: int64"
            ]
          },
          "metadata": {},
          "execution_count": 23
        }
      ]
    },
    {
      "cell_type": "markdown",
      "source": [
        "from above, we can see the 1-2 years vehicle age is most repeated age. Hence, I will use a mode to fill the missing vehicle age data. I am using sklearn simpleImputer for this"
      ],
      "metadata": {
        "id": "_fvUuzfZ9JRI"
      }
    },
    {
      "cell_type": "code",
      "execution_count": null,
      "metadata": {
        "id": "FmAioW1anCZV"
      },
      "outputs": [],
      "source": [
        "from sklearn.impute import SimpleImputer\n",
        "imputer = SimpleImputer(strategy='most_frequent', missing_values=np.nan)\n",
        "imputer = imputer.fit(df[['VehicleAge']])\n",
        "df['VehicleAge'] = imputer.transform(df[['VehicleAge']])"
      ]
    },
    {
      "cell_type": "markdown",
      "source": [
        "PastAccident"
      ],
      "metadata": {
        "id": "FR6FQlgQ9owg"
      }
    },
    {
      "cell_type": "code",
      "source": [
        "# counting vlaues for past accident\n",
        "df.PastAccident.value_counts()"
      ],
      "metadata": {
        "colab": {
          "base_uri": "https://localhost:8080/"
        },
        "id": "S3rYxEX8_SiN",
        "outputId": "b2e138e6-87d9-459f-de36-46e2fcf958bd"
      },
      "execution_count": null,
      "outputs": [
        {
          "output_type": "execute_result",
          "data": {
            "text/plain": [
              "Yes    76976\n",
              "No     75446\n",
              "Name: PastAccident, dtype: int64"
            ]
          },
          "metadata": {},
          "execution_count": 25
        }
      ]
    },
    {
      "cell_type": "markdown",
      "source": [
        "Becase of missing data is 50%, it is hard to decide how to fill a constant value. Hence, I replace the missing values in a given column with a other value which is 'Unknown'."
      ],
      "metadata": {
        "id": "mEvJahOY_iQL"
      }
    },
    {
      "cell_type": "code",
      "execution_count": null,
      "metadata": {
        "id": "XIHBAAN0xmv6"
      },
      "outputs": [],
      "source": [
        "# Fill missing switch values with new 'Unknown'\n",
        "df['PastAccident'] = df['PastAccident'].fillna(\"Unknown\",inplace=False)"
      ]
    },
    {
      "cell_type": "code",
      "execution_count": null,
      "metadata": {
        "colab": {
          "base_uri": "https://localhost:8080/"
        },
        "id": "zHSCxyP8sKsU",
        "outputId": "73ac057e-68dd-4bec-be83-377096d2b069"
      },
      "outputs": [
        {
          "output_type": "execute_result",
          "data": {
            "text/plain": [
              "id                   0\n",
              "Gender               0\n",
              "Age                  0\n",
              "HasDrivingLicense    0\n",
              "RegionID             0\n",
              "Switch               0\n",
              "VehicleAge           0\n",
              "PastAccident         0\n",
              "AnnualPremium        0\n",
              "SalesChannelID       0\n",
              "DaysSinceCreated     0\n",
              "Result               0\n",
              "dtype: int64"
            ]
          },
          "metadata": {},
          "execution_count": 36
        }
      ],
      "source": [
        "df.isnull().sum()"
      ]
    },
    {
      "cell_type": "markdown",
      "source": [
        "# Data Encoding"
      ],
      "metadata": {
        "id": "xnioJ3Ay_MHE"
      }
    },
    {
      "cell_type": "code",
      "source": [
        "# Replace 'Male' with 1 and 'Female' with 0 in the 'Gender' column\n",
        "df[\"Gender\"].replace({'Male':1,'Female':0}, inplace=True)"
      ],
      "metadata": {
        "id": "HFEA-z4l_m5b"
      },
      "execution_count": null,
      "outputs": []
    },
    {
      "cell_type": "code",
      "source": [
        "# Replace '> 2 Years' with 2 and '1-2 Year' with 1 and '< 1 Year'  with 0 in the 'vehicleage' column\n",
        "df[\"VehicleAge\"].replace({'> 2 Years':2,'1-2 Year':1,'< 1 Year':0}, inplace=True)"
      ],
      "metadata": {
        "id": "GW_tGznS_xDP"
      },
      "execution_count": null,
      "outputs": []
    },
    {
      "cell_type": "code",
      "source": [
        "# Replace 'Yes' with 1 and 'No' with 0 and 'Unknown'  with 2 in the 'vehicleage' column\n",
        "df[\"PastAccident\"].replace({'Yes':1,'No':0,'Unknown':2}, inplace=True)"
      ],
      "metadata": {
        "id": "0AwvqPmO-DrZ"
      },
      "execution_count": null,
      "outputs": []
    },
    {
      "cell_type": "code",
      "source": [
        "df.head()"
      ],
      "metadata": {
        "colab": {
          "base_uri": "https://localhost:8080/",
          "height": 206
        },
        "id": "tVxdDBVXPdZT",
        "outputId": "bbd42f77-db93-4884-ae66-6a31582897a4"
      },
      "execution_count": null,
      "outputs": [
        {
          "output_type": "execute_result",
          "data": {
            "text/plain": [
              "       id  Gender   Age  HasDrivingLicense  RegionID  Switch VehicleAge  \\\n",
              "0  332804       0  39.0                1.0      15.0     0.0   1-2 Year   \n",
              "1  116249       1  38.0                1.0      11.0    -1.0   1-2 Year   \n",
              "2  255006       1  22.0                1.0      30.0    -1.0   < 1 Year   \n",
              "3  317475       0  23.0                1.0      28.0    -1.0   < 1 Year   \n",
              "4  344213       1  56.0                1.0      48.0     0.0  > 2 Years   \n",
              "\n",
              "   PastAccident  AnnualPremium  SalesChannelID  DaysSinceCreated  Result  \n",
              "0             2         2645.3              55               227       1  \n",
              "1             2         1151.9              26                29       0  \n",
              "2             2         2265.9             152               166       0  \n",
              "3             2         1456.6             151               277       0  \n",
              "4             2          131.5             154               155       0  "
            ],
            "text/html": [
              "\n",
              "  <div id=\"df-5847a2f7-6d61-44a8-8002-bdb82e4f3463\" class=\"colab-df-container\">\n",
              "    <div>\n",
              "<style scoped>\n",
              "    .dataframe tbody tr th:only-of-type {\n",
              "        vertical-align: middle;\n",
              "    }\n",
              "\n",
              "    .dataframe tbody tr th {\n",
              "        vertical-align: top;\n",
              "    }\n",
              "\n",
              "    .dataframe thead th {\n",
              "        text-align: right;\n",
              "    }\n",
              "</style>\n",
              "<table border=\"1\" class=\"dataframe\">\n",
              "  <thead>\n",
              "    <tr style=\"text-align: right;\">\n",
              "      <th></th>\n",
              "      <th>id</th>\n",
              "      <th>Gender</th>\n",
              "      <th>Age</th>\n",
              "      <th>HasDrivingLicense</th>\n",
              "      <th>RegionID</th>\n",
              "      <th>Switch</th>\n",
              "      <th>VehicleAge</th>\n",
              "      <th>PastAccident</th>\n",
              "      <th>AnnualPremium</th>\n",
              "      <th>SalesChannelID</th>\n",
              "      <th>DaysSinceCreated</th>\n",
              "      <th>Result</th>\n",
              "    </tr>\n",
              "  </thead>\n",
              "  <tbody>\n",
              "    <tr>\n",
              "      <th>0</th>\n",
              "      <td>332804</td>\n",
              "      <td>0</td>\n",
              "      <td>39.0</td>\n",
              "      <td>1.0</td>\n",
              "      <td>15.0</td>\n",
              "      <td>0.0</td>\n",
              "      <td>1-2 Year</td>\n",
              "      <td>2</td>\n",
              "      <td>2645.3</td>\n",
              "      <td>55</td>\n",
              "      <td>227</td>\n",
              "      <td>1</td>\n",
              "    </tr>\n",
              "    <tr>\n",
              "      <th>1</th>\n",
              "      <td>116249</td>\n",
              "      <td>1</td>\n",
              "      <td>38.0</td>\n",
              "      <td>1.0</td>\n",
              "      <td>11.0</td>\n",
              "      <td>-1.0</td>\n",
              "      <td>1-2 Year</td>\n",
              "      <td>2</td>\n",
              "      <td>1151.9</td>\n",
              "      <td>26</td>\n",
              "      <td>29</td>\n",
              "      <td>0</td>\n",
              "    </tr>\n",
              "    <tr>\n",
              "      <th>2</th>\n",
              "      <td>255006</td>\n",
              "      <td>1</td>\n",
              "      <td>22.0</td>\n",
              "      <td>1.0</td>\n",
              "      <td>30.0</td>\n",
              "      <td>-1.0</td>\n",
              "      <td>&lt; 1 Year</td>\n",
              "      <td>2</td>\n",
              "      <td>2265.9</td>\n",
              "      <td>152</td>\n",
              "      <td>166</td>\n",
              "      <td>0</td>\n",
              "    </tr>\n",
              "    <tr>\n",
              "      <th>3</th>\n",
              "      <td>317475</td>\n",
              "      <td>0</td>\n",
              "      <td>23.0</td>\n",
              "      <td>1.0</td>\n",
              "      <td>28.0</td>\n",
              "      <td>-1.0</td>\n",
              "      <td>&lt; 1 Year</td>\n",
              "      <td>2</td>\n",
              "      <td>1456.6</td>\n",
              "      <td>151</td>\n",
              "      <td>277</td>\n",
              "      <td>0</td>\n",
              "    </tr>\n",
              "    <tr>\n",
              "      <th>4</th>\n",
              "      <td>344213</td>\n",
              "      <td>1</td>\n",
              "      <td>56.0</td>\n",
              "      <td>1.0</td>\n",
              "      <td>48.0</td>\n",
              "      <td>0.0</td>\n",
              "      <td>&gt; 2 Years</td>\n",
              "      <td>2</td>\n",
              "      <td>131.5</td>\n",
              "      <td>154</td>\n",
              "      <td>155</td>\n",
              "      <td>0</td>\n",
              "    </tr>\n",
              "  </tbody>\n",
              "</table>\n",
              "</div>\n",
              "    <div class=\"colab-df-buttons\">\n",
              "\n",
              "  <div class=\"colab-df-container\">\n",
              "    <button class=\"colab-df-convert\" onclick=\"convertToInteractive('df-5847a2f7-6d61-44a8-8002-bdb82e4f3463')\"\n",
              "            title=\"Convert this dataframe to an interactive table.\"\n",
              "            style=\"display:none;\">\n",
              "\n",
              "  <svg xmlns=\"http://www.w3.org/2000/svg\" height=\"24px\" viewBox=\"0 -960 960 960\">\n",
              "    <path d=\"M120-120v-720h720v720H120Zm60-500h600v-160H180v160Zm220 220h160v-160H400v160Zm0 220h160v-160H400v160ZM180-400h160v-160H180v160Zm440 0h160v-160H620v160ZM180-180h160v-160H180v160Zm440 0h160v-160H620v160Z\"/>\n",
              "  </svg>\n",
              "    </button>\n",
              "\n",
              "  <style>\n",
              "    .colab-df-container {\n",
              "      display:flex;\n",
              "      gap: 12px;\n",
              "    }\n",
              "\n",
              "    .colab-df-convert {\n",
              "      background-color: #E8F0FE;\n",
              "      border: none;\n",
              "      border-radius: 50%;\n",
              "      cursor: pointer;\n",
              "      display: none;\n",
              "      fill: #1967D2;\n",
              "      height: 32px;\n",
              "      padding: 0 0 0 0;\n",
              "      width: 32px;\n",
              "    }\n",
              "\n",
              "    .colab-df-convert:hover {\n",
              "      background-color: #E2EBFA;\n",
              "      box-shadow: 0px 1px 2px rgba(60, 64, 67, 0.3), 0px 1px 3px 1px rgba(60, 64, 67, 0.15);\n",
              "      fill: #174EA6;\n",
              "    }\n",
              "\n",
              "    .colab-df-buttons div {\n",
              "      margin-bottom: 4px;\n",
              "    }\n",
              "\n",
              "    [theme=dark] .colab-df-convert {\n",
              "      background-color: #3B4455;\n",
              "      fill: #D2E3FC;\n",
              "    }\n",
              "\n",
              "    [theme=dark] .colab-df-convert:hover {\n",
              "      background-color: #434B5C;\n",
              "      box-shadow: 0px 1px 3px 1px rgba(0, 0, 0, 0.15);\n",
              "      filter: drop-shadow(0px 1px 2px rgba(0, 0, 0, 0.3));\n",
              "      fill: #FFFFFF;\n",
              "    }\n",
              "  </style>\n",
              "\n",
              "    <script>\n",
              "      const buttonEl =\n",
              "        document.querySelector('#df-5847a2f7-6d61-44a8-8002-bdb82e4f3463 button.colab-df-convert');\n",
              "      buttonEl.style.display =\n",
              "        google.colab.kernel.accessAllowed ? 'block' : 'none';\n",
              "\n",
              "      async function convertToInteractive(key) {\n",
              "        const element = document.querySelector('#df-5847a2f7-6d61-44a8-8002-bdb82e4f3463');\n",
              "        const dataTable =\n",
              "          await google.colab.kernel.invokeFunction('convertToInteractive',\n",
              "                                                    [key], {});\n",
              "        if (!dataTable) return;\n",
              "\n",
              "        const docLinkHtml = 'Like what you see? Visit the ' +\n",
              "          '<a target=\"_blank\" href=https://colab.research.google.com/notebooks/data_table.ipynb>data table notebook</a>'\n",
              "          + ' to learn more about interactive tables.';\n",
              "        element.innerHTML = '';\n",
              "        dataTable['output_type'] = 'display_data';\n",
              "        await google.colab.output.renderOutput(dataTable, element);\n",
              "        const docLink = document.createElement('div');\n",
              "        docLink.innerHTML = docLinkHtml;\n",
              "        element.appendChild(docLink);\n",
              "      }\n",
              "    </script>\n",
              "  </div>\n",
              "\n",
              "\n",
              "<div id=\"df-f19c5522-5857-4591-8030-69c8c9a7c849\">\n",
              "  <button class=\"colab-df-quickchart\" onclick=\"quickchart('df-f19c5522-5857-4591-8030-69c8c9a7c849')\"\n",
              "            title=\"Suggest charts.\"\n",
              "            style=\"display:none;\">\n",
              "\n",
              "<svg xmlns=\"http://www.w3.org/2000/svg\" height=\"24px\"viewBox=\"0 0 24 24\"\n",
              "     width=\"24px\">\n",
              "    <g>\n",
              "        <path d=\"M19 3H5c-1.1 0-2 .9-2 2v14c0 1.1.9 2 2 2h14c1.1 0 2-.9 2-2V5c0-1.1-.9-2-2-2zM9 17H7v-7h2v7zm4 0h-2V7h2v10zm4 0h-2v-4h2v4z\"/>\n",
              "    </g>\n",
              "</svg>\n",
              "  </button>\n",
              "\n",
              "<style>\n",
              "  .colab-df-quickchart {\n",
              "      --bg-color: #E8F0FE;\n",
              "      --fill-color: #1967D2;\n",
              "      --hover-bg-color: #E2EBFA;\n",
              "      --hover-fill-color: #174EA6;\n",
              "      --disabled-fill-color: #AAA;\n",
              "      --disabled-bg-color: #DDD;\n",
              "  }\n",
              "\n",
              "  [theme=dark] .colab-df-quickchart {\n",
              "      --bg-color: #3B4455;\n",
              "      --fill-color: #D2E3FC;\n",
              "      --hover-bg-color: #434B5C;\n",
              "      --hover-fill-color: #FFFFFF;\n",
              "      --disabled-bg-color: #3B4455;\n",
              "      --disabled-fill-color: #666;\n",
              "  }\n",
              "\n",
              "  .colab-df-quickchart {\n",
              "    background-color: var(--bg-color);\n",
              "    border: none;\n",
              "    border-radius: 50%;\n",
              "    cursor: pointer;\n",
              "    display: none;\n",
              "    fill: var(--fill-color);\n",
              "    height: 32px;\n",
              "    padding: 0;\n",
              "    width: 32px;\n",
              "  }\n",
              "\n",
              "  .colab-df-quickchart:hover {\n",
              "    background-color: var(--hover-bg-color);\n",
              "    box-shadow: 0 1px 2px rgba(60, 64, 67, 0.3), 0 1px 3px 1px rgba(60, 64, 67, 0.15);\n",
              "    fill: var(--button-hover-fill-color);\n",
              "  }\n",
              "\n",
              "  .colab-df-quickchart-complete:disabled,\n",
              "  .colab-df-quickchart-complete:disabled:hover {\n",
              "    background-color: var(--disabled-bg-color);\n",
              "    fill: var(--disabled-fill-color);\n",
              "    box-shadow: none;\n",
              "  }\n",
              "\n",
              "  .colab-df-spinner {\n",
              "    border: 2px solid var(--fill-color);\n",
              "    border-color: transparent;\n",
              "    border-bottom-color: var(--fill-color);\n",
              "    animation:\n",
              "      spin 1s steps(1) infinite;\n",
              "  }\n",
              "\n",
              "  @keyframes spin {\n",
              "    0% {\n",
              "      border-color: transparent;\n",
              "      border-bottom-color: var(--fill-color);\n",
              "      border-left-color: var(--fill-color);\n",
              "    }\n",
              "    20% {\n",
              "      border-color: transparent;\n",
              "      border-left-color: var(--fill-color);\n",
              "      border-top-color: var(--fill-color);\n",
              "    }\n",
              "    30% {\n",
              "      border-color: transparent;\n",
              "      border-left-color: var(--fill-color);\n",
              "      border-top-color: var(--fill-color);\n",
              "      border-right-color: var(--fill-color);\n",
              "    }\n",
              "    40% {\n",
              "      border-color: transparent;\n",
              "      border-right-color: var(--fill-color);\n",
              "      border-top-color: var(--fill-color);\n",
              "    }\n",
              "    60% {\n",
              "      border-color: transparent;\n",
              "      border-right-color: var(--fill-color);\n",
              "    }\n",
              "    80% {\n",
              "      border-color: transparent;\n",
              "      border-right-color: var(--fill-color);\n",
              "      border-bottom-color: var(--fill-color);\n",
              "    }\n",
              "    90% {\n",
              "      border-color: transparent;\n",
              "      border-bottom-color: var(--fill-color);\n",
              "    }\n",
              "  }\n",
              "</style>\n",
              "\n",
              "  <script>\n",
              "    async function quickchart(key) {\n",
              "      const quickchartButtonEl =\n",
              "        document.querySelector('#' + key + ' button');\n",
              "      quickchartButtonEl.disabled = true;  // To prevent multiple clicks.\n",
              "      quickchartButtonEl.classList.add('colab-df-spinner');\n",
              "      try {\n",
              "        const charts = await google.colab.kernel.invokeFunction(\n",
              "            'suggestCharts', [key], {});\n",
              "      } catch (error) {\n",
              "        console.error('Error during call to suggestCharts:', error);\n",
              "      }\n",
              "      quickchartButtonEl.classList.remove('colab-df-spinner');\n",
              "      quickchartButtonEl.classList.add('colab-df-quickchart-complete');\n",
              "    }\n",
              "    (() => {\n",
              "      let quickchartButtonEl =\n",
              "        document.querySelector('#df-f19c5522-5857-4591-8030-69c8c9a7c849 button');\n",
              "      quickchartButtonEl.style.display =\n",
              "        google.colab.kernel.accessAllowed ? 'block' : 'none';\n",
              "    })();\n",
              "  </script>\n",
              "</div>\n",
              "    </div>\n",
              "  </div>\n"
            ]
          },
          "metadata": {},
          "execution_count": 44
        }
      ]
    },
    {
      "cell_type": "markdown",
      "source": [
        "# Feature Scaling"
      ],
      "metadata": {
        "id": "9KG8dkmmCNMu"
      }
    },
    {
      "cell_type": "code",
      "execution_count": null,
      "metadata": {
        "id": "qPbwryljsKx6"
      },
      "outputs": [],
      "source": [
        "from sklearn.preprocessing import MinMaxScaler\n",
        "minMax_scale = MinMaxScaler()   # to default range [0, 1]\n",
        "df['Age'] = minMax_scale.fit_transform(df[['Age']])\n"
      ]
    },
    {
      "cell_type": "code",
      "source": [
        "from sklearn.preprocessing import StandardScaler\n",
        "\n",
        "standard_scale = StandardScaler()   # to default 0 mean and 1 standard deviation\n",
        "df['AnnualPremium'] = standard_scale.fit_transform(df[['AnnualPremium']])\n",
        "\n",
        "standard_scale = StandardScaler()\n",
        "df['RegionID'] = standard_scale.fit_transform(df[['RegionID']])"
      ],
      "metadata": {
        "id": "tYCHojXWLF-C"
      },
      "execution_count": null,
      "outputs": []
    },
    {
      "cell_type": "markdown",
      "source": [
        "# Data Exploration"
      ],
      "metadata": {
        "id": "F5Q-_oClCZmz"
      }
    },
    {
      "cell_type": "code",
      "execution_count": null,
      "metadata": {
        "colab": {
          "base_uri": "https://localhost:8080/",
          "height": 396
        },
        "id": "wXqAQio_sk6k",
        "outputId": "080bfedc-978c-4c20-e27d-89aaa6f639e5"
      },
      "outputs": [
        {
          "output_type": "execute_result",
          "data": {
            "text/plain": [
              "                     Gender       Age  HasDrivingLicense  RegionID    Switch  \\\n",
              "Gender             1.000000  0.126006          -0.016446  0.001716 -0.023615   \n",
              "Age                0.126006  1.000000          -0.069481  0.040281 -0.072147   \n",
              "HasDrivingLicense -0.016446 -0.069481           1.000000 -0.001727  0.006518   \n",
              "RegionID           0.001716  0.040281          -0.001727  1.000000 -0.007017   \n",
              "Switch            -0.023615 -0.072147           0.006518 -0.007017  1.000000   \n",
              "VehicleAge         0.136976  0.672064          -0.030476  0.040737 -0.103575   \n",
              "PastAccident       0.026728  0.075315          -0.002307  0.009743 -0.074993   \n",
              "AnnualPremium      0.002995  0.064370          -0.013531 -0.010064  0.004750   \n",
              "Result             0.049026  0.106053           0.009046  0.011969 -0.093667   \n",
              "\n",
              "                   VehicleAge  PastAccident  AnnualPremium    Result  \n",
              "Gender               0.136976      0.026728       0.002995  0.049026  \n",
              "Age                  0.672064      0.075315       0.064370  0.106053  \n",
              "HasDrivingLicense   -0.030476     -0.002307      -0.013531  0.009046  \n",
              "RegionID             0.040737      0.009743      -0.010064  0.011969  \n",
              "Switch              -0.103575     -0.074993       0.004750 -0.093667  \n",
              "VehicleAge           1.000000      0.110692       0.038623  0.205422  \n",
              "PastAccident         0.110692      1.000000      -0.000159  0.106470  \n",
              "AnnualPremium        0.038623     -0.000159       1.000000  0.023787  \n",
              "Result               0.205422      0.106470       0.023787  1.000000  "
            ],
            "text/html": [
              "\n",
              "  <div id=\"df-ee1ce030-abec-49a6-bce2-c4a372c33863\">\n",
              "    <div class=\"colab-df-container\">\n",
              "      <div>\n",
              "<style scoped>\n",
              "    .dataframe tbody tr th:only-of-type {\n",
              "        vertical-align: middle;\n",
              "    }\n",
              "\n",
              "    .dataframe tbody tr th {\n",
              "        vertical-align: top;\n",
              "    }\n",
              "\n",
              "    .dataframe thead th {\n",
              "        text-align: right;\n",
              "    }\n",
              "</style>\n",
              "<table border=\"1\" class=\"dataframe\">\n",
              "  <thead>\n",
              "    <tr style=\"text-align: right;\">\n",
              "      <th></th>\n",
              "      <th>Gender</th>\n",
              "      <th>Age</th>\n",
              "      <th>HasDrivingLicense</th>\n",
              "      <th>RegionID</th>\n",
              "      <th>Switch</th>\n",
              "      <th>VehicleAge</th>\n",
              "      <th>PastAccident</th>\n",
              "      <th>AnnualPremium</th>\n",
              "      <th>Result</th>\n",
              "    </tr>\n",
              "  </thead>\n",
              "  <tbody>\n",
              "    <tr>\n",
              "      <th>Gender</th>\n",
              "      <td>1.000000</td>\n",
              "      <td>0.126006</td>\n",
              "      <td>-0.016446</td>\n",
              "      <td>0.001716</td>\n",
              "      <td>-0.023615</td>\n",
              "      <td>0.136976</td>\n",
              "      <td>0.026728</td>\n",
              "      <td>0.002995</td>\n",
              "      <td>0.049026</td>\n",
              "    </tr>\n",
              "    <tr>\n",
              "      <th>Age</th>\n",
              "      <td>0.126006</td>\n",
              "      <td>1.000000</td>\n",
              "      <td>-0.069481</td>\n",
              "      <td>0.040281</td>\n",
              "      <td>-0.072147</td>\n",
              "      <td>0.672064</td>\n",
              "      <td>0.075315</td>\n",
              "      <td>0.064370</td>\n",
              "      <td>0.106053</td>\n",
              "    </tr>\n",
              "    <tr>\n",
              "      <th>HasDrivingLicense</th>\n",
              "      <td>-0.016446</td>\n",
              "      <td>-0.069481</td>\n",
              "      <td>1.000000</td>\n",
              "      <td>-0.001727</td>\n",
              "      <td>0.006518</td>\n",
              "      <td>-0.030476</td>\n",
              "      <td>-0.002307</td>\n",
              "      <td>-0.013531</td>\n",
              "      <td>0.009046</td>\n",
              "    </tr>\n",
              "    <tr>\n",
              "      <th>RegionID</th>\n",
              "      <td>0.001716</td>\n",
              "      <td>0.040281</td>\n",
              "      <td>-0.001727</td>\n",
              "      <td>1.000000</td>\n",
              "      <td>-0.007017</td>\n",
              "      <td>0.040737</td>\n",
              "      <td>0.009743</td>\n",
              "      <td>-0.010064</td>\n",
              "      <td>0.011969</td>\n",
              "    </tr>\n",
              "    <tr>\n",
              "      <th>Switch</th>\n",
              "      <td>-0.023615</td>\n",
              "      <td>-0.072147</td>\n",
              "      <td>0.006518</td>\n",
              "      <td>-0.007017</td>\n",
              "      <td>1.000000</td>\n",
              "      <td>-0.103575</td>\n",
              "      <td>-0.074993</td>\n",
              "      <td>0.004750</td>\n",
              "      <td>-0.093667</td>\n",
              "    </tr>\n",
              "    <tr>\n",
              "      <th>VehicleAge</th>\n",
              "      <td>0.136976</td>\n",
              "      <td>0.672064</td>\n",
              "      <td>-0.030476</td>\n",
              "      <td>0.040737</td>\n",
              "      <td>-0.103575</td>\n",
              "      <td>1.000000</td>\n",
              "      <td>0.110692</td>\n",
              "      <td>0.038623</td>\n",
              "      <td>0.205422</td>\n",
              "    </tr>\n",
              "    <tr>\n",
              "      <th>PastAccident</th>\n",
              "      <td>0.026728</td>\n",
              "      <td>0.075315</td>\n",
              "      <td>-0.002307</td>\n",
              "      <td>0.009743</td>\n",
              "      <td>-0.074993</td>\n",
              "      <td>0.110692</td>\n",
              "      <td>1.000000</td>\n",
              "      <td>-0.000159</td>\n",
              "      <td>0.106470</td>\n",
              "    </tr>\n",
              "    <tr>\n",
              "      <th>AnnualPremium</th>\n",
              "      <td>0.002995</td>\n",
              "      <td>0.064370</td>\n",
              "      <td>-0.013531</td>\n",
              "      <td>-0.010064</td>\n",
              "      <td>0.004750</td>\n",
              "      <td>0.038623</td>\n",
              "      <td>-0.000159</td>\n",
              "      <td>1.000000</td>\n",
              "      <td>0.023787</td>\n",
              "    </tr>\n",
              "    <tr>\n",
              "      <th>Result</th>\n",
              "      <td>0.049026</td>\n",
              "      <td>0.106053</td>\n",
              "      <td>0.009046</td>\n",
              "      <td>0.011969</td>\n",
              "      <td>-0.093667</td>\n",
              "      <td>0.205422</td>\n",
              "      <td>0.106470</td>\n",
              "      <td>0.023787</td>\n",
              "      <td>1.000000</td>\n",
              "    </tr>\n",
              "  </tbody>\n",
              "</table>\n",
              "</div>\n",
              "      <button class=\"colab-df-convert\" onclick=\"convertToInteractive('df-ee1ce030-abec-49a6-bce2-c4a372c33863')\"\n",
              "              title=\"Convert this dataframe to an interactive table.\"\n",
              "              style=\"display:none;\">\n",
              "        \n",
              "  <svg xmlns=\"http://www.w3.org/2000/svg\" height=\"24px\"viewBox=\"0 0 24 24\"\n",
              "       width=\"24px\">\n",
              "    <path d=\"M0 0h24v24H0V0z\" fill=\"none\"/>\n",
              "    <path d=\"M18.56 5.44l.94 2.06.94-2.06 2.06-.94-2.06-.94-.94-2.06-.94 2.06-2.06.94zm-11 1L8.5 8.5l.94-2.06 2.06-.94-2.06-.94L8.5 2.5l-.94 2.06-2.06.94zm10 10l.94 2.06.94-2.06 2.06-.94-2.06-.94-.94-2.06-.94 2.06-2.06.94z\"/><path d=\"M17.41 7.96l-1.37-1.37c-.4-.4-.92-.59-1.43-.59-.52 0-1.04.2-1.43.59L10.3 9.45l-7.72 7.72c-.78.78-.78 2.05 0 2.83L4 21.41c.39.39.9.59 1.41.59.51 0 1.02-.2 1.41-.59l7.78-7.78 2.81-2.81c.8-.78.8-2.07 0-2.86zM5.41 20L4 18.59l7.72-7.72 1.47 1.35L5.41 20z\"/>\n",
              "  </svg>\n",
              "      </button>\n",
              "      \n",
              "  <style>\n",
              "    .colab-df-container {\n",
              "      display:flex;\n",
              "      flex-wrap:wrap;\n",
              "      gap: 12px;\n",
              "    }\n",
              "\n",
              "    .colab-df-convert {\n",
              "      background-color: #E8F0FE;\n",
              "      border: none;\n",
              "      border-radius: 50%;\n",
              "      cursor: pointer;\n",
              "      display: none;\n",
              "      fill: #1967D2;\n",
              "      height: 32px;\n",
              "      padding: 0 0 0 0;\n",
              "      width: 32px;\n",
              "    }\n",
              "\n",
              "    .colab-df-convert:hover {\n",
              "      background-color: #E2EBFA;\n",
              "      box-shadow: 0px 1px 2px rgba(60, 64, 67, 0.3), 0px 1px 3px 1px rgba(60, 64, 67, 0.15);\n",
              "      fill: #174EA6;\n",
              "    }\n",
              "\n",
              "    [theme=dark] .colab-df-convert {\n",
              "      background-color: #3B4455;\n",
              "      fill: #D2E3FC;\n",
              "    }\n",
              "\n",
              "    [theme=dark] .colab-df-convert:hover {\n",
              "      background-color: #434B5C;\n",
              "      box-shadow: 0px 1px 3px 1px rgba(0, 0, 0, 0.15);\n",
              "      filter: drop-shadow(0px 1px 2px rgba(0, 0, 0, 0.3));\n",
              "      fill: #FFFFFF;\n",
              "    }\n",
              "  </style>\n",
              "\n",
              "      <script>\n",
              "        const buttonEl =\n",
              "          document.querySelector('#df-ee1ce030-abec-49a6-bce2-c4a372c33863 button.colab-df-convert');\n",
              "        buttonEl.style.display =\n",
              "          google.colab.kernel.accessAllowed ? 'block' : 'none';\n",
              "\n",
              "        async function convertToInteractive(key) {\n",
              "          const element = document.querySelector('#df-ee1ce030-abec-49a6-bce2-c4a372c33863');\n",
              "          const dataTable =\n",
              "            await google.colab.kernel.invokeFunction('convertToInteractive',\n",
              "                                                     [key], {});\n",
              "          if (!dataTable) return;\n",
              "\n",
              "          const docLinkHtml = 'Like what you see? Visit the ' +\n",
              "            '<a target=\"_blank\" href=https://colab.research.google.com/notebooks/data_table.ipynb>data table notebook</a>'\n",
              "            + ' to learn more about interactive tables.';\n",
              "          element.innerHTML = '';\n",
              "          dataTable['output_type'] = 'display_data';\n",
              "          await google.colab.output.renderOutput(dataTable, element);\n",
              "          const docLink = document.createElement('div');\n",
              "          docLink.innerHTML = docLinkHtml;\n",
              "          element.appendChild(docLink);\n",
              "        }\n",
              "      </script>\n",
              "    </div>\n",
              "  </div>\n",
              "  "
            ]
          },
          "metadata": {},
          "execution_count": 31
        }
      ],
      "source": [
        "df.corr()"
      ]
    },
    {
      "cell_type": "code",
      "execution_count": null,
      "metadata": {
        "colab": {
          "base_uri": "https://localhost:8080/",
          "height": 458
        },
        "id": "iV_6wSAisk9D",
        "outputId": "483950dd-a72c-4f50-e37b-76994c4a65fb"
      },
      "outputs": [
        {
          "output_type": "execute_result",
          "data": {
            "text/plain": [
              "<matplotlib.axes._subplots.AxesSubplot at 0x7fcdd2371880>"
            ]
          },
          "metadata": {},
          "execution_count": 32
        },
        {
          "output_type": "display_data",
          "data": {
            "text/plain": [
              "<Figure size 1512x720 with 2 Axes>"
            ],
            "image/png": "[encoded data removed]"
          },
          "metadata": {}
        }
      ],
      "source": [
        "sns.set(rc = {'figure.figsize':(21,10)})\n",
        "sns.heatmap(df.corr(), annot=True, cmap='YlOrBr')\n"
      ]
    },
    {
      "cell_type": "code",
      "execution_count": null,
      "metadata": {
        "colab": {
          "base_uri": "https://localhost:8080/",
          "height": 683
        },
        "id": "0_MdqrXfsK37",
        "outputId": "b47b686b-33ba-406f-931e-3304a559c1e6"
      },
      "outputs": [
        {
          "output_type": "stream",
          "name": "stderr",
          "text": [
            "/usr/local/lib/python3.8/dist-packages/seaborn/_decorators.py:36: FutureWarning: Pass the following variables as keyword args: x, y. From version 0.12, the only valid positional argument will be `data`, and passing other arguments without an explicit keyword will result in an error or misinterpretation.\n",
            "  warnings.warn(\n"
          ]
        },
        {
          "output_type": "execute_result",
          "data": {
            "text/plain": [
              "<matplotlib.axes._subplots.AxesSubplot at 0x7fcdd22f2280>"
            ]
          },
          "metadata": {},
          "execution_count": 33
        },
        {
          "output_type": "display_data",
          "data": {
            "text/plain": [
              "<Figure size 864x720 with 1 Axes>"
            ],
            "image/png": "[encoded data removed]"
          },
          "metadata": {}
        }
      ],
      "source": [
        "plt.figure(figsize=(12,10))\n",
        "sns.scatterplot(df['Age'],df['AnnualPremium'])"
      ]
    },
    {
      "cell_type": "code",
      "execution_count": null,
      "metadata": {
        "colab": {
          "base_uri": "https://localhost:8080/",
          "height": 512
        },
        "id": "c3EA_k2IskWi",
        "outputId": "a67681b5-874a-412c-e259-2034b5fc9cd3"
      },
      "outputs": [
        {
          "output_type": "stream",
          "name": "stderr",
          "text": [
            "/usr/local/lib/python3.8/dist-packages/seaborn/_decorators.py:36: FutureWarning: Pass the following variable as a keyword arg: x. From version 0.12, the only valid positional argument will be `data`, and passing other arguments without an explicit keyword will result in an error or misinterpretation.\n",
            "  warnings.warn(\n"
          ]
        },
        {
          "output_type": "execute_result",
          "data": {
            "text/plain": [
              "<Figure size 720x576 with 0 Axes>"
            ]
          },
          "metadata": {},
          "execution_count": 34
        },
        {
          "output_type": "display_data",
          "data": {
            "text/plain": [
              "<Figure size 1512x720 with 1 Axes>"
            ],
            "image/png": "[encoded data removed]"
          },
          "metadata": {}
        },
        {
          "output_type": "display_data",
          "data": {
            "text/plain": [
              "<Figure size 720x576 with 0 Axes>"
            ]
          },
          "metadata": {}
        }
      ],
      "source": [
        "cols=['grey','red']\n",
        "sns.countplot(df.Gender,palette=cols)\n",
        "plt.figure(figsize=(10,8))"
      ]
    },
    {
      "cell_type": "code",
      "execution_count": null,
      "metadata": {
        "colab": {
          "base_uri": "https://localhost:8080/",
          "height": 400
        },
        "id": "ew8f4JIwskZS",
        "outputId": "ed54f4c5-3ea7-40d4-98a4-628f7fa3db36"
      },
      "outputs": [
        {
          "output_type": "execute_result",
          "data": {
            "text/plain": [
              "<Figure size 720x576 with 0 Axes>"
            ]
          },
          "metadata": {},
          "execution_count": 35
        },
        {
          "output_type": "display_data",
          "data": {
            "text/plain": [
              "<Figure size 720x360 with 2 Axes>"
            ],
            "image/png": "[encoded data removed]"
          },
          "metadata": {}
        },
        {
          "output_type": "display_data",
          "data": {
            "text/plain": [
              "<Figure size 720x576 with 0 Axes>"
            ]
          },
          "metadata": {}
        }
      ],
      "source": [
        "cols=['steelblue','orange']\n",
        "sns.catplot(x=\"Gender\", y=\"PastAccident\",col=\"Result\",\n",
        "                data=df, kind=\"bar\",palette=cols)\n",
        "plt.figure(figsize=(10,8))"
      ]
    },
    {
      "cell_type": "code",
      "source": [
        "cols=['yellow','brown','lightgreen']\n",
        "sns.countplot(df.PastAccident, palette=cols)\n",
        "plt.figure(figsize=(11,10))"
      ],
      "metadata": {
        "colab": {
          "base_uri": "https://localhost:8080/",
          "height": 512
        },
        "id": "Afz8a7jOBGq4",
        "outputId": "73a577bb-257f-45b3-9e57-d6e6456a233e"
      },
      "execution_count": null,
      "outputs": [
        {
          "output_type": "stream",
          "name": "stderr",
          "text": [
            "/usr/local/lib/python3.8/dist-packages/seaborn/_decorators.py:36: FutureWarning: Pass the following variable as a keyword arg: x. From version 0.12, the only valid positional argument will be `data`, and passing other arguments without an explicit keyword will result in an error or misinterpretation.\n",
            "  warnings.warn(\n"
          ]
        },
        {
          "output_type": "execute_result",
          "data": {
            "text/plain": [
              "<Figure size 792x720 with 0 Axes>"
            ]
          },
          "metadata": {},
          "execution_count": 36
        },
        {
          "output_type": "display_data",
          "data": {
            "text/plain": [
              "<Figure size 1512x720 with 1 Axes>"
            ],
            "image/png": "[encoded data removed]"
          },
          "metadata": {}
        },
        {
          "output_type": "display_data",
          "data": {
            "text/plain": [
              "<Figure size 792x720 with 0 Axes>"
            ]
          },
          "metadata": {}
        }
      ]
    },
    {
      "cell_type": "code",
      "source": [
        "cols=['green','orange','black']\n",
        "sns.countplot(df.VehicleAge,palette=cols)\n",
        "plt.figure(figsize=(11,10))"
      ],
      "metadata": {
        "colab": {
          "base_uri": "https://localhost:8080/",
          "height": 512
        },
        "id": "sXfk7nc31fta",
        "outputId": "b2b9c4c5-e696-4f12-b63c-8926dd5bed06"
      },
      "execution_count": null,
      "outputs": [
        {
          "output_type": "stream",
          "name": "stderr",
          "text": [
            "/usr/local/lib/python3.8/dist-packages/seaborn/_decorators.py:36: FutureWarning: Pass the following variable as a keyword arg: x. From version 0.12, the only valid positional argument will be `data`, and passing other arguments without an explicit keyword will result in an error or misinterpretation.\n",
            "  warnings.warn(\n"
          ]
        },
        {
          "output_type": "execute_result",
          "data": {
            "text/plain": [
              "<Figure size 792x720 with 0 Axes>"
            ]
          },
          "metadata": {},
          "execution_count": 37
        },
        {
          "output_type": "display_data",
          "data": {
            "text/plain": [
              "<Figure size 1512x720 with 1 Axes>"
            ],
            "image/png": "[encoded data removed]"
          },
          "metadata": {}
        },
        {
          "output_type": "display_data",
          "data": {
            "text/plain": [
              "<Figure size 792x720 with 0 Axes>"
            ]
          },
          "metadata": {}
        }
      ]
    },
    {
      "cell_type": "code",
      "execution_count": null,
      "metadata": {
        "colab": {
          "base_uri": "https://localhost:8080/",
          "height": 546
        },
        "id": "jZx2EwWssk01",
        "outputId": "1d156c89-bf0b-4a2d-ddb8-88ab691b0bb4"
      },
      "outputs": [
        {
          "output_type": "execute_result",
          "data": {
            "text/plain": [
              "Text(0, 0.5, 'Count')"
            ]
          },
          "metadata": {},
          "execution_count": 38
        },
        {
          "output_type": "display_data",
          "data": {
            "text/plain": [
              "<Figure size 1152x576 with 1 Axes>"
            ],
            "image/png": "[encoded data removed]"
          },
          "metadata": {}
        }
      ],
      "source": [
        "plt.rcParams['figure.figsize'] = (16, 8)\n",
        "\n",
        "plt.subplot(1, 2, 1)\n",
        "plt.hist(df['Age'], color = 'lightblue')\n",
        "plt.title('Age',fontsize = 25)\n",
        "plt.xlabel('Age Distribution', fontsize = 15)\n",
        "plt.ylabel('Count', fontsize = 15)"
      ]
    },
    {
      "cell_type": "code",
      "source": [
        "sns.distplot(df.AnnualPremium, color= 'Black')\n",
        "plt.figure(figsize=(12,10))"
      ],
      "metadata": {
        "colab": {
          "base_uri": "https://localhost:8080/",
          "height": 543
        },
        "id": "qFjJlQQX_LjU",
        "outputId": "d779f61b-916d-424d-8780-c65424d0e197"
      },
      "execution_count": null,
      "outputs": [
        {
          "output_type": "stream",
          "name": "stderr",
          "text": [
            "/usr/local/lib/python3.8/dist-packages/seaborn/distributions.py:2619: FutureWarning: `distplot` is a deprecated function and will be removed in a future version. Please adapt your code to use either `displot` (a figure-level function with similar flexibility) or `histplot` (an axes-level function for histograms).\n",
            "  warnings.warn(msg, FutureWarning)\n"
          ]
        },
        {
          "output_type": "execute_result",
          "data": {
            "text/plain": [
              "<Figure size 864x720 with 0 Axes>"
            ]
          },
          "metadata": {},
          "execution_count": 39
        },
        {
          "output_type": "display_data",
          "data": {
            "text/plain": [
              "<Figure size 1152x576 with 1 Axes>"
            ],
            "image/png": "[encoded data removed]"
          },
          "metadata": {}
        },
        {
          "output_type": "display_data",
          "data": {
            "text/plain": [
              "<Figure size 864x720 with 0 Axes>"
            ]
          },
          "metadata": {}
        }
      ]
    },
    {
      "cell_type": "code",
      "source": [
        "plt.figure(figsize=(10,5))\n",
        "df['Result'].value_counts().plot(kind='pie',autopct='%1.1f', textprops={'fontsize': 15},startangle=90,explode =(0.1,0),colors=['slategray','cornflowerblue'])\n",
        "plt.title('Result', fontsize = 18)\n",
        "plt.ylabel('')"
      ],
      "metadata": {
        "colab": {
          "base_uri": "https://localhost:8080/",
          "height": 340
        },
        "id": "P5-JcQ4QU1rc",
        "outputId": "109c8750-10f3-46c9-ce25-1e06da2363bb"
      },
      "execution_count": null,
      "outputs": [
        {
          "output_type": "execute_result",
          "data": {
            "text/plain": [
              "Text(0, 0.5, '')"
            ]
          },
          "metadata": {},
          "execution_count": 40
        },
        {
          "output_type": "display_data",
          "data": {
            "text/plain": [
              "<Figure size 720x360 with 1 Axes>"
            ],
            "image/png": "[encoded data removed]"
          },
          "metadata": {}
        }
      ]
    },
    {
      "cell_type": "markdown",
      "source": [
        "# Outliers"
      ],
      "metadata": {
        "id": "eENskPqAwBdC"
      }
    },
    {
      "cell_type": "code",
      "source": [
        "plt.figure(figsize=(35,20))\n",
        "df.boxplot()"
      ],
      "metadata": {
        "colab": {
          "base_uri": "https://localhost:8080/",
          "height": 517
        },
        "id": "3RueKS6RGcC2",
        "outputId": "a0675f1a-4db7-4dc6-8865-0566ab03edd2"
      },
      "execution_count": null,
      "outputs": [
        {
          "output_type": "execute_result",
          "data": {
            "text/plain": [
              "<matplotlib.axes._subplots.AxesSubplot at 0x7fcdd40446d0>"
            ]
          },
          "metadata": {},
          "execution_count": 41
        },
        {
          "output_type": "display_data",
          "data": {
            "text/plain": [
              "<Figure size 2520x1440 with 1 Axes>"
            ],
            "image/png": "[encoded data removed]"
          },
          "metadata": {}
        }
      ]
    },
    {
      "cell_type": "code",
      "source": [
        "from numpy.random import seed\n",
        "from numpy.random import randn\n",
        "from numpy import mean\n",
        "from numpy import std\n",
        "outlier_per=[]\n",
        "for i in df:\n",
        "    data_mean, data_std = mean(df[i]), std(df[i])\n",
        "# identify outliers\n",
        "    cut_off = data_std * 3\n",
        "    lower, upper = data_mean - cut_off, data_mean + cut_off\n",
        "    print(i,': \\n')\n",
        "# identify outliers\n",
        "    outliers = [x for x in df[i] if x < lower or x > upper]\n",
        "\n",
        "    number_out=len(outliers)\n",
        "    print('Identified outliers: %d' % number_out)\n",
        "    outliers_removed = [x for x in df[i] if x >= lower and x <= upper]\n",
        "    number_nout=len(outliers_removed)\n",
        "    print('Non-outlier observations: %d' % number_nout)\n",
        "    outlier_percent=(number_out/(number_out+number_nout))*100\n",
        "    print('Percent of outlers:',outlier_percent ,'\\n')\n",
        "    outlier_per.append(outlier_percent)"
      ],
      "metadata": {
        "colab": {
          "base_uri": "https://localhost:8080/"
        },
        "id": "yV6m8tnYqdiW",
        "outputId": "abfb8b6c-6507-4ee1-8430-4b1d6f383084"
      },
      "execution_count": null,
      "outputs": [
        {
          "output_type": "stream",
          "name": "stdout",
          "text": [
            "Gender : \n",
            "\n",
            "Identified outliers: 0\n",
            "Non-outlier observations: 274334\n",
            "Percent of outlers: 0.0 \n",
            "\n",
            "Age : \n",
            "\n",
            "Identified outliers: 21\n",
            "Non-outlier observations: 274313\n",
            "Percent of outlers: 0.007654902418220126 \n",
            "\n",
            "HasDrivingLicense : \n",
            "\n",
            "Identified outliers: 588\n",
            "Non-outlier observations: 273746\n",
            "Percent of outlers: 0.21433726771016354 \n",
            "\n",
            "RegionID : \n",
            "\n",
            "Identified outliers: 0\n",
            "Non-outlier observations: 274334\n",
            "Percent of outlers: 0.0 \n",
            "\n",
            "Switch : \n",
            "\n",
            "Identified outliers: 0\n",
            "Non-outlier observations: 274334\n",
            "Percent of outlers: 0.0 \n",
            "\n",
            "VehicleAge : \n",
            "\n",
            "Identified outliers: 0\n",
            "Non-outlier observations: 274334\n",
            "Percent of outlers: 0.0 \n",
            "\n",
            "PastAccident : \n",
            "\n",
            "Identified outliers: 0\n",
            "Non-outlier observations: 274334\n",
            "Percent of outlers: 0.0 \n",
            "\n",
            "AnnualPremium : \n",
            "\n",
            "Identified outliers: 1503\n",
            "Non-outlier observations: 272831\n",
            "Percent of outlers: 0.5478723016468976 \n",
            "\n",
            "Result : \n",
            "\n",
            "Identified outliers: 0\n",
            "Non-outlier observations: 274334\n",
            "Percent of outlers: 0.0 \n",
            "\n"
          ]
        }
      ]
    },
    {
      "cell_type": "markdown",
      "source": [
        "# Dividing and Balancing Data into Train and Test"
      ],
      "metadata": {
        "id": "gZOqj3PWC3Bu"
      }
    },
    {
      "cell_type": "code",
      "execution_count": null,
      "metadata": {
        "id": "_fP6jd0-slAj"
      },
      "outputs": [],
      "source": [
        "x = df[['Gender','Age','HasDrivingLicense','RegionID','Switch','VehicleAge','PastAccident','AnnualPremium']]"
      ]
    },
    {
      "cell_type": "code",
      "execution_count": null,
      "metadata": {
        "id": "wMozdQCbCtqI"
      },
      "outputs": [],
      "source": [
        "y = df[['Result']]"
      ]
    },
    {
      "cell_type": "code",
      "execution_count": null,
      "metadata": {
        "id": "2Iq_62datHQT"
      },
      "outputs": [],
      "source": [
        "from sklearn.model_selection import train_test_split\n",
        "x_train, x_test, y_train, y_test = train_test_split(x, y, test_size=0.33, random_state=42,)"
      ]
    },
    {
      "cell_type": "code",
      "execution_count": null,
      "metadata": {
        "id": "sdm9oidvfASb"
      },
      "outputs": [],
      "source": [
        "from imblearn.over_sampling import SMOTE\n",
        "sm=SMOTE(sampling_strategy='minority',random_state=3)\n",
        "\n",
        "x_train_sm,y_train_sm=sm.fit_resample(x_train,y_train)"
      ]
    },
    {
      "cell_type": "code",
      "source": [
        "y_train.value_counts() # count before smote"
      ],
      "metadata": {
        "colab": {
          "base_uri": "https://localhost:8080/"
        },
        "id": "D6adR-elDhQq",
        "outputId": "bdc68398-eb34-471e-865b-ef805477a2b3"
      },
      "execution_count": null,
      "outputs": [
        {
          "output_type": "execute_result",
          "data": {
            "text/plain": [
              "Result\n",
              "0         161521\n",
              "1          22282\n",
              "dtype: int64"
            ]
          },
          "metadata": {},
          "execution_count": 47
        }
      ]
    },
    {
      "cell_type": "code",
      "execution_count": null,
      "metadata": {
        "colab": {
          "base_uri": "https://localhost:8080/"
        },
        "id": "eOrrMgBsfMlk",
        "outputId": "cb5ae696-2426-4abf-c44e-044065bd1b01"
      },
      "outputs": [
        {
          "output_type": "execute_result",
          "data": {
            "text/plain": [
              "Result\n",
              "0         161521\n",
              "1         161521\n",
              "dtype: int64"
            ]
          },
          "metadata": {},
          "execution_count": 48
        }
      ],
      "source": [
        "y_train_sm.value_counts() # count after smote"
      ]
    },
    {
      "cell_type": "code",
      "execution_count": null,
      "metadata": {
        "colab": {
          "base_uri": "https://localhost:8080/"
        },
        "id": "vvssgprWkI-C",
        "outputId": "0e23ba5d-6c0f-4c68-c8a0-6da718bf8bab"
      },
      "outputs": [
        {
          "output_type": "execute_result",
          "data": {
            "text/plain": [
              "Gender               90531\n",
              "Age                  90531\n",
              "HasDrivingLicense    90531\n",
              "RegionID             90531\n",
              "Switch               90531\n",
              "VehicleAge           90531\n",
              "PastAccident         90531\n",
              "AnnualPremium        90531\n",
              "dtype: int64"
            ]
          },
          "metadata": {},
          "execution_count": 49
        }
      ],
      "source": [
        "x_test.count()\n"
      ]
    },
    {
      "cell_type": "markdown",
      "source": [
        "# Modelling"
      ],
      "metadata": {
        "id": "Um5BfQHWDMz2"
      }
    },
    {
      "cell_type": "code",
      "execution_count": null,
      "metadata": {
        "colab": {
          "base_uri": "https://localhost:8080/"
        },
        "id": "8voACcy1tHfW",
        "outputId": "7e6f08d1-e64b-4184-933e-66f6a30a68ac"
      },
      "outputs": [
        {
          "output_type": "stream",
          "name": "stderr",
          "text": [
            "/usr/local/lib/python3.8/dist-packages/sklearn/neighbors/_classification.py:198: DataConversionWarning: A column-vector y was passed when a 1d array was expected. Please change the shape of y to (n_samples,), for example using ravel().\n",
            "  return self._fit(X, y)\n"
          ]
        }
      ],
      "source": [
        "from sklearn.neighbors import KNeighborsClassifier\n",
        "from sklearn.metrics import confusion_matrix\n",
        "from sklearn.metrics import classification_report\n",
        "from sklearn import metrics\n",
        "\n",
        "kNN = KNeighborsClassifier()\n",
        "kNN.fit(x_train_sm,y_train_sm)\n",
        "\n",
        "y_pred = kNN.predict(x_test)"
      ]
    },
    {
      "cell_type": "code",
      "source": [
        "print(\"\\n KNN Accuracy : \", metrics.accuracy_score(y_test,y_pred))"
      ],
      "metadata": {
        "colab": {
          "base_uri": "https://localhost:8080/"
        },
        "id": "GqCLy8Hk_R5c",
        "outputId": "95d2de40-e26f-4c88-df54-21cfbea471b0"
      },
      "execution_count": null,
      "outputs": [
        {
          "output_type": "stream",
          "name": "stdout",
          "text": [
            "\n",
            " KNN Accuracy :  0.7327987098342005\n"
          ]
        }
      ]
    },
    {
      "cell_type": "code",
      "execution_count": null,
      "metadata": {
        "colab": {
          "base_uri": "https://localhost:8080/",
          "height": 570
        },
        "id": "Ts6dZrSzuBC_",
        "outputId": "d03e1334-bf2f-4034-a88e-4c63afa6cf6e"
      },
      "outputs": [
        {
          "output_type": "stream",
          "name": "stdout",
          "text": [
            "\n",
            " KNN Accuracy :  0.7327987098342005\n",
            "              precision    recall  f1-score   support\n",
            "\n",
            "           0       0.92      0.76      0.83     79448\n",
            "           1       0.24      0.55      0.33     11083\n",
            "\n",
            "    accuracy                           0.73     90531\n",
            "   macro avg       0.58      0.65      0.58     90531\n",
            "weighted avg       0.84      0.73      0.77     90531\n",
            "\n"
          ]
        },
        {
          "output_type": "display_data",
          "data": {
            "text/plain": [
              "<Figure size 432x432 with 2 Axes>"
            ],
            "image/png": "[encoded data removed]"
          },
          "metadata": {}
        }
      ],
      "source": [
        "# confusion matrix\n",
        "cm = confusion_matrix(y_test, y_pred)\n",
        "plt.rcParams['figure.figsize'] = (6, 6)\n",
        "sns.heatmap(cm ,annot = True)\n",
        "\n",
        "# classification report\n",
        "kNN_cl_report = classification_report(y_test, y_pred)\n",
        "print(\"\\n KNN Accuracy : \", metrics.accuracy_score(y_test,y_pred))\n",
        "print(kNN_cl_report)"
      ]
    },
    {
      "cell_type": "code",
      "execution_count": null,
      "metadata": {
        "colab": {
          "base_uri": "https://localhost:8080/"
        },
        "id": "rPLh8fCpujmg",
        "outputId": "c111faee-9797-4a26-964b-3585739bf087"
      },
      "outputs": [
        {
          "output_type": "stream",
          "name": "stderr",
          "text": [
            "<ipython-input-53-30066a854316>:3: DataConversionWarning: A column-vector y was passed when a 1d array was expected. Please change the shape of y to (n_samples,), for example using ravel().\n",
            "  rfclf.fit(x_train_sm,y_train_sm)\n"
          ]
        }
      ],
      "source": [
        "from sklearn.ensemble import RandomForestClassifier\n",
        "rfclf = RandomForestClassifier()\n",
        "rfclf.fit(x_train_sm,y_train_sm)\n",
        "y_pred = rfclf.predict(x_test)"
      ]
    },
    {
      "cell_type": "code",
      "execution_count": null,
      "metadata": {
        "id": "5RQ9SWPXurnD",
        "colab": {
          "base_uri": "https://localhost:8080/"
        },
        "outputId": "342101f8-9cac-4cf2-b29d-be85b6506207"
      },
      "outputs": [
        {
          "output_type": "stream",
          "name": "stdout",
          "text": [
            "\n",
            " RandomForestClassifier Accuracy :  0.8068175542079509\n"
          ]
        }
      ],
      "source": [
        "print(\"\\n RandomForestClassifier Accuracy : \", metrics.accuracy_score(y_test,y_pred))"
      ]
    },
    {
      "cell_type": "code",
      "execution_count": null,
      "metadata": {
        "id": "s_dY_DQ6u3oF",
        "colab": {
          "base_uri": "https://localhost:8080/",
          "height": 568
        },
        "outputId": "7add6ae5-3f24-4078-e85a-2c0e6d4cd0c0"
      },
      "outputs": [
        {
          "output_type": "stream",
          "name": "stdout",
          "text": [
            "\n",
            " RandomForestClassifier Accuracy :  0.8068175542079509\n",
            "              precision    recall  f1-score   support\n",
            "\n",
            "           0       0.90      0.87      0.89     79448\n",
            "           1       0.27      0.33      0.29     11083\n",
            "\n",
            "    accuracy                           0.81     90531\n",
            "   macro avg       0.58      0.60      0.59     90531\n",
            "weighted avg       0.83      0.81      0.82     90531\n",
            "\n"
          ]
        },
        {
          "output_type": "display_data",
          "data": {
            "text/plain": [
              "<Figure size 432x432 with 2 Axes>"
            ],
            "image/png": "[encoded data removed]"
          },
          "metadata": {}
        }
      ],
      "source": [
        "# confusion matrix\n",
        "cm = confusion_matrix(y_test, y_pred)\n",
        "plt.rcParams['figure.figsize'] = (6, 6)\n",
        "sns.heatmap(cm ,annot = True)\n",
        "\n",
        "# classification report\n",
        "rfclf_cl_report = classification_report(y_test, y_pred)\n",
        "print(\"\\n RandomForestClassifier Accuracy : \", metrics.accuracy_score(y_test,y_pred))\n",
        "print(rfclf_cl_report)"
      ]
    },
    {
      "cell_type": "code",
      "source": [
        "from sklearn.linear_model import LogisticRegression\n",
        "logRE = LogisticRegression()\n",
        "logRE.fit(x_train_sm,y_train_sm)\n",
        "y_pred = logRE.predict(x_test)\n"
      ],
      "metadata": {
        "id": "9CAOX6YAEc5p",
        "colab": {
          "base_uri": "https://localhost:8080/"
        },
        "outputId": "0c2fc1f9-72d5-4702-97c0-d3f0a6ef46da"
      },
      "execution_count": null,
      "outputs": [
        {
          "output_type": "stream",
          "name": "stderr",
          "text": [
            "/usr/local/lib/python3.8/dist-packages/sklearn/utils/validation.py:993: DataConversionWarning: A column-vector y was passed when a 1d array was expected. Please change the shape of y to (n_samples, ), for example using ravel().\n",
            "  y = column_or_1d(y, warn=True)\n"
          ]
        }
      ]
    },
    {
      "cell_type": "code",
      "source": [
        "print(\"\\n LogisticRegression Accuracy : \", metrics.accuracy_score(y_test,y_pred))"
      ],
      "metadata": {
        "id": "RG8YksinE6rd",
        "colab": {
          "base_uri": "https://localhost:8080/"
        },
        "outputId": "c0104572-5544-4670-92ea-a10b6d3295fa"
      },
      "execution_count": null,
      "outputs": [
        {
          "output_type": "stream",
          "name": "stdout",
          "text": [
            "\n",
            " LogisticRegression Accuracy :  0.620969612618882\n"
          ]
        }
      ]
    },
    {
      "cell_type": "code",
      "source": [
        "# confusion matrix\n",
        "cm = confusion_matrix(y_test, y_pred)\n",
        "plt.rcParams['figure.figsize'] = (6, 6)\n",
        "sns.heatmap(cm ,annot = True)\n",
        "\n",
        "# classification report\n",
        "logRE_cl_report = classification_report(y_test, y_pred)\n",
        "print(\"\\n LogisticRegression Accuracy : \", metrics.accuracy_score(y_test,y_pred))\n",
        "print(logRE_cl_report)"
      ],
      "metadata": {
        "id": "YCE80iJ2FBPi",
        "colab": {
          "base_uri": "https://localhost:8080/",
          "height": 568
        },
        "outputId": "7dda35a4-9abb-490e-a9bc-21c9b3b0843d"
      },
      "execution_count": null,
      "outputs": [
        {
          "output_type": "stream",
          "name": "stdout",
          "text": [
            "\n",
            " LogisticRegression Accuracy :  0.620969612618882\n",
            "              precision    recall  f1-score   support\n",
            "\n",
            "           0       0.94      0.61      0.74     79448\n",
            "           1       0.20      0.71      0.31     11083\n",
            "\n",
            "    accuracy                           0.62     90531\n",
            "   macro avg       0.57      0.66      0.53     90531\n",
            "weighted avg       0.85      0.62      0.69     90531\n",
            "\n"
          ]
        },
        {
          "output_type": "display_data",
          "data": {
            "text/plain": [
              "<Figure size 432x432 with 2 Axes>"
            ],
            "image/png": "[encoded data removed]"
          },
          "metadata": {}
        }
      ]
    },
    {
      "cell_type": "code",
      "execution_count": null,
      "metadata": {
        "id": "6nZGEzO78xGY"
      },
      "outputs": [],
      "source": [
        "from sklearn.metrics import confusion_matrix,accuracy_score,roc_auc_score,roc_curve\n",
        "\n",
        "from sklearn.neighbors import KNeighborsClassifier\n",
        "kNN_sm=KNeighborsClassifier(n_neighbors=6)\n",
        "\n",
        "from sklearn.ensemble import RandomForestClassifier\n",
        "rfclf_sm=RandomForestClassifier(n_estimators=100,random_state=0)\n",
        "\n",
        "from sklearn.linear_model import LogisticRegression\n",
        "LogRE_sm=LogisticRegression()\n",
        "\n"
      ]
    },
    {
      "cell_type": "code",
      "execution_count": null,
      "metadata": {
        "id": "3WvbPmsv4vGg"
      },
      "outputs": [],
      "source": [
        "models_sm=[]\n",
        "models_sm.append(('KNN',kNN_sm))\n",
        "models_sm.append(('Random Forest Classifier',rfclf_sm))\n",
        "models_sm.append(('Logistic Regression',LogRE_sm))\n",
        "\n"
      ]
    },
    {
      "cell_type": "code",
      "execution_count": null,
      "metadata": {
        "id": "_odhNDcA9MvZ"
      },
      "outputs": [],
      "source": [
        "x_train_sm=np.array(x_train_sm)\n",
        "y_train_sm=np.array(y_train_sm)\n",
        "x_test=np.array(x_test)\n",
        "y_test=np.array(y_test)"
      ]
    },
    {
      "cell_type": "code",
      "execution_count": null,
      "metadata": {
        "id": "yLBHerId9SEf"
      },
      "outputs": [],
      "source": [
        "from sklearn.metrics import confusion_matrix,accuracy_score,roc_auc_score,roc_curve\n",
        "acc_train_sm=[]\n",
        "auc_train_sm=[]\n",
        "\n",
        "acc_test_sm=[]\n",
        "auc_test_sm=[]\n",
        "names_sm=[]\n",
        "def model_eval(name,algo, xtrain,ytrain,xtest,ytest):\n",
        "    names_sm.append(name)\n",
        "\n",
        "    algo.fit(xtrain,ytrain)\n",
        "    ytrain_pred =algo.predict(xtrain)\n",
        "    ytrain_prob = algo.predict_proba(xtrain)[:,1]\n",
        "\n",
        "    acc_train_sm.append(accuracy_score(ytrain, ytrain_pred))\n",
        "    auc_train_sm.append(roc_auc_score(ytrain, ytrain_prob))\n",
        "\n",
        "    ytest_pred = algo.predict(xtest)\n",
        "    ytest_prob = algo.predict_proba(xtest)[:,1]\n",
        "\n",
        "    acc_test_sm.append(accuracy_score(ytest, ytest_pred))\n",
        "    auc_test_sm.append(roc_auc_score(ytest, ytest_prob))"
      ]
    },
    {
      "cell_type": "code",
      "execution_count": null,
      "metadata": {
        "id": "Rcvhpevl7OrS",
        "colab": {
          "base_uri": "https://localhost:8080/"
        },
        "outputId": "bad3322d-9ed4-4962-e572-c04711a91706"
      },
      "outputs": [
        {
          "output_type": "stream",
          "name": "stderr",
          "text": [
            "/usr/local/lib/python3.8/dist-packages/sklearn/neighbors/_classification.py:198: DataConversionWarning: A column-vector y was passed when a 1d array was expected. Please change the shape of y to (n_samples,), for example using ravel().\n",
            "  return self._fit(X, y)\n",
            "<ipython-input-62-b8c52b81c40e>:11: DataConversionWarning: A column-vector y was passed when a 1d array was expected. Please change the shape of y to (n_samples,), for example using ravel().\n",
            "  algo.fit(xtrain,ytrain)\n",
            "/usr/local/lib/python3.8/dist-packages/sklearn/utils/validation.py:993: DataConversionWarning: A column-vector y was passed when a 1d array was expected. Please change the shape of y to (n_samples, ), for example using ravel().\n",
            "  y = column_or_1d(y, warn=True)\n"
          ]
        }
      ],
      "source": [
        "for name,algo in models_sm:\n",
        "    model_eval(name,algo,x_train_sm,y_train_sm,x_test,y_test)"
      ]
    },
    {
      "cell_type": "code",
      "execution_count": null,
      "metadata": {
        "id": "Vq-UIegn7neg"
      },
      "outputs": [],
      "source": [
        "results_sm_df=pd.DataFrame({'Model':names_sm,\n",
        "\n",
        "                           'Accuracy Score Train':acc_train_sm,\n",
        "                           'ROC-AUC Score Train':auc_train_sm,\n",
        "\n",
        "                           'Accuracy Score Test':acc_test_sm,\n",
        "                           'ROC-AUC Score Test':auc_test_sm\n",
        "                            })"
      ]
    },
    {
      "cell_type": "markdown",
      "source": [
        "# Model Results"
      ],
      "metadata": {
        "id": "y5M6hWHAyCer"
      }
    },
    {
      "cell_type": "code",
      "execution_count": null,
      "metadata": {
        "id": "ddElaSpO7rGh",
        "colab": {
          "base_uri": "https://localhost:8080/",
          "height": 187
        },
        "outputId": "b6cad777-77e8-4a1d-a144-cc7cca4993ad"
      },
      "outputs": [
        {
          "output_type": "execute_result",
          "data": {
            "text/plain": [
              "                      Model  Accuracy Score Train  ROC-AUC Score Train  \\\n",
              "0                       KNN              0.874385             0.953823   \n",
              "1  Random Forest Classifier              0.989751             0.999101   \n",
              "2       Logistic Regression              0.657029             0.705799   \n",
              "\n",
              "   Accuracy Score Test  ROC-AUC Score Test  \n",
              "0             0.752947            0.729893  \n",
              "1             0.806895            0.765358  \n",
              "2             0.620970            0.704543  "
            ],
            "text/html": [
              "\n",
              "  <div id=\"df-301ff476-33d2-4f07-bd55-eb1859f0611f\">\n",
              "    <div class=\"colab-df-container\">\n",
              "      <div>\n",
              "<style scoped>\n",
              "    .dataframe tbody tr th:only-of-type {\n",
              "        vertical-align: middle;\n",
              "    }\n",
              "\n",
              "    .dataframe tbody tr th {\n",
              "        vertical-align: top;\n",
              "    }\n",
              "\n",
              "    .dataframe thead th {\n",
              "        text-align: right;\n",
              "    }\n",
              "</style>\n",
              "<table border=\"1\" class=\"dataframe\">\n",
              "  <thead>\n",
              "    <tr style=\"text-align: right;\">\n",
              "      <th></th>\n",
              "      <th>Model</th>\n",
              "      <th>Accuracy Score Train</th>\n",
              "      <th>ROC-AUC Score Train</th>\n",
              "      <th>Accuracy Score Test</th>\n",
              "      <th>ROC-AUC Score Test</th>\n",
              "    </tr>\n",
              "  </thead>\n",
              "  <tbody>\n",
              "    <tr>\n",
              "      <th>0</th>\n",
              "      <td>KNN</td>\n",
              "      <td>0.874385</td>\n",
              "      <td>0.953823</td>\n",
              "      <td>0.752947</td>\n",
              "      <td>0.729893</td>\n",
              "    </tr>\n",
              "    <tr>\n",
              "      <th>1</th>\n",
              "      <td>Random Forest Classifier</td>\n",
              "      <td>0.989751</td>\n",
              "      <td>0.999101</td>\n",
              "      <td>0.806895</td>\n",
              "      <td>0.765358</td>\n",
              "    </tr>\n",
              "    <tr>\n",
              "      <th>2</th>\n",
              "      <td>Logistic Regression</td>\n",
              "      <td>0.657029</td>\n",
              "      <td>0.705799</td>\n",
              "      <td>0.620970</td>\n",
              "      <td>0.704543</td>\n",
              "    </tr>\n",
              "  </tbody>\n",
              "</table>\n",
              "</div>\n",
              "      <button class=\"colab-df-convert\" onclick=\"convertToInteractive('df-301ff476-33d2-4f07-bd55-eb1859f0611f')\"\n",
              "              title=\"Convert this dataframe to an interactive table.\"\n",
              "              style=\"display:none;\">\n",
              "        \n",
              "  <svg xmlns=\"http://www.w3.org/2000/svg\" height=\"24px\"viewBox=\"0 0 24 24\"\n",
              "       width=\"24px\">\n",
              "    <path d=\"M0 0h24v24H0V0z\" fill=\"none\"/>\n",
              "    <path d=\"M18.56 5.44l.94 2.06.94-2.06 2.06-.94-2.06-.94-.94-2.06-.94 2.06-2.06.94zm-11 1L8.5 8.5l.94-2.06 2.06-.94-2.06-.94L8.5 2.5l-.94 2.06-2.06.94zm10 10l.94 2.06.94-2.06 2.06-.94-2.06-.94-.94-2.06-.94 2.06-2.06.94z\"/><path d=\"M17.41 7.96l-1.37-1.37c-.4-.4-.92-.59-1.43-.59-.52 0-1.04.2-1.43.59L10.3 9.45l-7.72 7.72c-.78.78-.78 2.05 0 2.83L4 21.41c.39.39.9.59 1.41.59.51 0 1.02-.2 1.41-.59l7.78-7.78 2.81-2.81c.8-.78.8-2.07 0-2.86zM5.41 20L4 18.59l7.72-7.72 1.47 1.35L5.41 20z\"/>\n",
              "  </svg>\n",
              "      </button>\n",
              "      \n",
              "  <style>\n",
              "    .colab-df-container {\n",
              "      display:flex;\n",
              "      flex-wrap:wrap;\n",
              "      gap: 12px;\n",
              "    }\n",
              "\n",
              "    .colab-df-convert {\n",
              "      background-color: #E8F0FE;\n",
              "      border: none;\n",
              "      border-radius: 50%;\n",
              "      cursor: pointer;\n",
              "      display: none;\n",
              "      fill: #1967D2;\n",
              "      height: 32px;\n",
              "      padding: 0 0 0 0;\n",
              "      width: 32px;\n",
              "    }\n",
              "\n",
              "    .colab-df-convert:hover {\n",
              "      background-color: #E2EBFA;\n",
              "      box-shadow: 0px 1px 2px rgba(60, 64, 67, 0.3), 0px 1px 3px 1px rgba(60, 64, 67, 0.15);\n",
              "      fill: #174EA6;\n",
              "    }\n",
              "\n",
              "    [theme=dark] .colab-df-convert {\n",
              "      background-color: #3B4455;\n",
              "      fill: #D2E3FC;\n",
              "    }\n",
              "\n",
              "    [theme=dark] .colab-df-convert:hover {\n",
              "      background-color: #434B5C;\n",
              "      box-shadow: 0px 1px 3px 1px rgba(0, 0, 0, 0.15);\n",
              "      filter: drop-shadow(0px 1px 2px rgba(0, 0, 0, 0.3));\n",
              "      fill: #FFFFFF;\n",
              "    }\n",
              "  </style>\n",
              "\n",
              "      <script>\n",
              "        const buttonEl =\n",
              "          document.querySelector('#df-301ff476-33d2-4f07-bd55-eb1859f0611f button.colab-df-convert');\n",
              "        buttonEl.style.display =\n",
              "          google.colab.kernel.accessAllowed ? 'block' : 'none';\n",
              "\n",
              "        async function convertToInteractive(key) {\n",
              "          const element = document.querySelector('#df-301ff476-33d2-4f07-bd55-eb1859f0611f');\n",
              "          const dataTable =\n",
              "            await google.colab.kernel.invokeFunction('convertToInteractive',\n",
              "                                                     [key], {});\n",
              "          if (!dataTable) return;\n",
              "\n",
              "          const docLinkHtml = 'Like what you see? Visit the ' +\n",
              "            '<a target=\"_blank\" href=https://colab.research.google.com/notebooks/data_table.ipynb>data table notebook</a>'\n",
              "            + ' to learn more about interactive tables.';\n",
              "          element.innerHTML = '';\n",
              "          dataTable['output_type'] = 'display_data';\n",
              "          await google.colab.output.renderOutput(dataTable, element);\n",
              "          const docLink = document.createElement('div');\n",
              "          docLink.innerHTML = docLinkHtml;\n",
              "          element.appendChild(docLink);\n",
              "        }\n",
              "      </script>\n",
              "    </div>\n",
              "  </div>\n",
              "  "
            ]
          },
          "metadata": {},
          "execution_count": 65
        }
      ],
      "source": [
        "results_sm_df"
      ]
    }
  ],
  "metadata": {
    "colab": {
      "provenance": []
    },
    "kernelspec": {
      "display_name": "Python 3",
      "name": "python3"
    },
    "language_info": {
      "name": "python"
    }
  },
  "nbformat": 4,
  "nbformat_minor": 0
}